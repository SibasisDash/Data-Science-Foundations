{
 "cells": [
  {
   "cell_type": "code",
   "execution_count": 16,
   "metadata": {
    "scrolled": true
   },
   "outputs": [
    {
     "name": "stdout",
     "output_type": "stream",
     "text": [
      "         tpep_pickup_datetime tpep_dropoff_datetime  passenger_count  \\\n",
      "VendorID                                                               \n",
      "1         2017-10-01 00:01:50   2017-10-01 00:14:13                1   \n",
      "1         2017-10-01 00:02:43   2017-10-01 00:08:35                2   \n",
      "1         2017-10-01 00:12:08   2017-10-01 00:25:49                3   \n",
      "2         2017-10-01 00:00:25   2017-10-01 00:11:24                1   \n",
      "2         2017-10-01 00:15:30   2017-10-01 00:25:11                1   \n",
      "\n",
      "          trip_distance  RatecodeID store_and_fwd_flag  PULocationID  \\\n",
      "VendorID                                                               \n",
      "1                  2.00           1                  N           142   \n",
      "1                  2.30           1                  N           142   \n",
      "1                  2.80           1                  N           151   \n",
      "2                  1.97           1                  N           100   \n",
      "2                  2.17           1                  N           141   \n",
      "\n",
      "          DOLocationID  payment_type  fare_amount  extra  mta_tax  tip_amount  \\\n",
      "VendorID                                                                        \n",
      "1                  233             2         10.0    0.5      0.5        0.00   \n",
      "1                  166             1          8.0    0.5      0.5        1.85   \n",
      "1                  262             1         13.0    0.5      0.5        1.72   \n",
      "2                  229             1          9.5    0.5      0.5        1.00   \n",
      "2                  142             1          9.0    0.5      0.5        2.06   \n",
      "\n",
      "          tolls_amount  improvement_surcharge  total_amount  \n",
      "VendorID                                                     \n",
      "1                  0.0                    0.3         11.30  \n",
      "1                  0.0                    0.3         11.15  \n",
      "1                  0.0                    0.3         16.02  \n",
      "2                  0.0                    0.3         11.80  \n",
      "2                  0.0                    0.3         12.36  \n"
     ]
    }
   ],
   "source": [
    "import pandas as pd\n",
    "import numpy as np \n",
    "import matplotlib.pyplot as plt\n",
    "df = pd.read_csv('https://s3.amazonaws.com/nyc-tlc/trip+data/yellow_tripdata_2017-10.csv',\n",
    "                 parse_dates = [\"tpep_pickup_datetime\",\"tpep_dropoff_datetime\"],\n",
    "                 index_col = \"VendorID\" #indexcoulmn\n",
    "                 )\n",
    "print(df.head())"
   ]
  },
  {
   "cell_type": "code",
   "execution_count": null,
   "metadata": {},
   "outputs": [],
   "source": []
  },
  {
   "cell_type": "code",
   "execution_count": 10,
   "metadata": {},
   "outputs": [
    {
     "name": "stdout",
     "output_type": "stream",
     "text": [
      "       passenger_count  trip_distance    RatecodeID  PULocationID  \\\n",
      "count     9.768815e+06   9.768815e+06  9.768815e+06  9.768815e+06   \n",
      "mean      1.617468e+00   2.964095e+00  1.045011e+00  1.630937e+02   \n",
      "std       1.259104e+00   3.814063e+00  4.748632e-01  6.624797e+01   \n",
      "min       0.000000e+00   0.000000e+00  1.000000e+00  1.000000e+00   \n",
      "25%       1.000000e+00   1.000000e+00  1.000000e+00  1.140000e+02   \n",
      "50%       1.000000e+00   1.650000e+00  1.000000e+00  1.620000e+02   \n",
      "75%       2.000000e+00   3.070000e+00  1.000000e+00  2.330000e+02   \n",
      "max       9.000000e+00   1.178600e+03  9.900000e+01  2.650000e+02   \n",
      "\n",
      "       DOLocationID  payment_type   fare_amount         extra       mta_tax  \\\n",
      "count  9.768815e+06  9.768815e+06  9.768815e+06  9.768815e+06  9.768815e+06   \n",
      "mean   1.612835e+02  1.328251e+00  1.338078e+01  3.300792e-01  4.972671e-01   \n",
      "std    7.015271e+01  4.901289e-01  3.078552e+02  4.644125e-01  1.177005e-01   \n",
      "min    1.000000e+00  1.000000e+00 -4.600000e+02 -5.800000e+01 -5.000000e-01   \n",
      "25%    1.120000e+02  1.000000e+00  6.500000e+00  0.000000e+00  5.000000e-01   \n",
      "50%    1.620000e+02  1.000000e+00  9.500000e+00  0.000000e+00  5.000000e-01   \n",
      "75%    2.330000e+02  2.000000e+00  1.500000e+01  5.000000e-01  5.000000e-01   \n",
      "max    2.650000e+02  4.000000e+00  8.616024e+05  9.600000e+01  2.500000e+02   \n",
      "\n",
      "         tip_amount  tolls_amount  improvement_surcharge  total_amount  \n",
      "count  9.768815e+06  9.768815e+06           9.768815e+06  9.768815e+06  \n",
      "mean   1.883138e+00  3.479925e-01           2.996095e-01  1.674133e+01  \n",
      "std    2.634506e+00  1.696558e+00           1.438805e-02  3.079748e+02  \n",
      "min   -4.100000e+01 -1.500000e+01          -3.000000e-01 -4.603000e+02  \n",
      "25%    0.000000e+00  0.000000e+00           3.000000e-01  8.760000e+00  \n",
      "50%    1.360000e+00  0.000000e+00           3.000000e-01  1.225000e+01  \n",
      "75%    2.460000e+00  0.000000e+00           3.000000e-01  1.830000e+01  \n",
      "max    4.445000e+02  9.296500e+02           1.000000e+00  8.616032e+05  \n"
     ]
    }
   ],
   "source": [
    "print(df.describe())"
   ]
  },
  {
   "cell_type": "code",
   "execution_count": 11,
   "metadata": {},
   "outputs": [
    {
     "name": "stdout",
     "output_type": "stream",
     "text": [
      "tpep_pickup_datetime     datetime64[ns]\n",
      "tpep_dropoff_datetime    datetime64[ns]\n",
      "passenger_count                   int64\n",
      "trip_distance                   float64\n",
      "RatecodeID                        int64\n",
      "store_and_fwd_flag               object\n",
      "PULocationID                      int64\n",
      "DOLocationID                      int64\n",
      "payment_type                      int64\n",
      "fare_amount                     float64\n",
      "extra                           float64\n",
      "mta_tax                         float64\n",
      "tip_amount                      float64\n",
      "tolls_amount                    float64\n",
      "improvement_surcharge           float64\n",
      "total_amount                    float64\n",
      "dtype: object\n"
     ]
    }
   ],
   "source": [
    "print(df.dtypes)"
   ]
  },
  {
   "cell_type": "code",
   "execution_count": 28,
   "metadata": {},
   "outputs": [],
   "source": [
    "\n",
    "def det_outliers(df, column):\n",
    "    Q1 = df[column].quantile(0.25)\n",
    "    Q3 = df[column].quantile(0.75)\n",
    "    IQR = Q3 - Q1\n",
    "    lower_lim = Q1 - IQR * 1.5\n",
    "    upper_lim = Q3 + IQR * 1.5\n",
    "    print(\"Lower limit {} = {}\".format(column,lower_lim))\n",
    "    print(\"Upperr limit {} = {}\".format(column,upper_lim))\n",
    "    return(lower_lim,upper_lim)"
   ]
  },
  {
   "cell_type": "code",
   "execution_count": 29,
   "metadata": {},
   "outputs": [
    {
     "data": {
      "image/png": "[encoded data removed]",
      "text/plain": [
       "<matplotlib.figure.Figure at 0x98c454e0>"
      ]
     },
     "metadata": {},
     "output_type": "display_data"
    }
   ],
   "source": [
    "df.boxplot(column='fare_amount')\n",
    "plt.title('Fare amount spread')\n",
    "plt.ylabel('Fare amount')\n",
    "plt.show()"
   ]
  },
  {
   "cell_type": "code",
   "execution_count": 19,
   "metadata": {},
   "outputs": [
    {
     "data": {
      "image/png": "[encoded data removed]",
      "text/plain": [
       "<matplotlib.figure.Figure at 0x8ce260f0>"
      ]
     },
     "metadata": {},
     "output_type": "display_data"
    }
   ],
   "source": []
  },
  {
   "cell_type": "code",
   "execution_count": 30,
   "metadata": {},
   "outputs": [
    {
     "name": "stdout",
     "output_type": "stream",
     "text": [
      "The minimum fare_amount = -460.0\n"
     ]
    }
   ],
   "source": [
    "#Fare amount less than 0\n",
    "print('The minimum fare_amount = {}'.format(df['fare_amount'].min()))\n"
   ]
  },
  {
   "cell_type": "code",
   "execution_count": 31,
   "metadata": {},
   "outputs": [
    {
     "name": "stdout",
     "output_type": "stream",
     "text": [
      "The amount of fare_amount that are 0 or less = 7491\n"
     ]
    }
   ],
   "source": [
    "#All such fare amounts\n",
    "print('The amount of fare_amount that are 0 or less = {}'.format(len(df.loc[df['fare_amount'] <= 0.0])))"
   ]
  },
  {
   "cell_type": "code",
   "execution_count": 32,
   "metadata": {},
   "outputs": [
    {
     "name": "stdout",
     "output_type": "stream",
     "text": [
      "The maximum fare_amount = 861602.44\n"
     ]
    }
   ],
   "source": [
    "#Fare amount max\n",
    "print('The maximum fare_amount = {}'.format(df['fare_amount'].max()))"
   ]
  },
  {
   "cell_type": "code",
   "execution_count": 33,
   "metadata": {},
   "outputs": [
    {
     "name": "stdout",
     "output_type": "stream",
     "text": [
      "Lower limit fare_amount = -6.25\n",
      "Upperr limit fare_amount = 27.75\n"
     ]
    }
   ],
   "source": [
    "#defining the limits\n",
    "fare_lower_lim, fare_upper_lim = det_outliers(df, 'fare_amount')"
   ]
  },
  {
   "cell_type": "code",
   "execution_count": 34,
   "metadata": {},
   "outputs": [
    {
     "data": {
      "image/png": "[encoded data removed]",
      "text/plain": [
       "<matplotlib.figure.Figure at 0x12926208>"
      ]
     },
     "metadata": {},
     "output_type": "display_data"
    }
   ],
   "source": [
    "#Tripdistance\n",
    "df.boxplot(column='trip_distance')\n",
    "plt.title('Trip distance spread')\n",
    "plt.ylabel('Trip distance')\n",
    "plt.show()"
   ]
  },
  {
   "cell_type": "code",
   "execution_count": 35,
   "metadata": {},
   "outputs": [
    {
     "name": "stdout",
     "output_type": "stream",
     "text": [
      "The minimum trip distance = 0.0\n"
     ]
    }
   ],
   "source": [
    "#Trip distance less than 0\n",
    "print('The minimum trip distance = {}'.format(df['trip_distance'].min()))"
   ]
  },
  {
   "cell_type": "code",
   "execution_count": 36,
   "metadata": {},
   "outputs": [
    {
     "name": "stdout",
     "output_type": "stream",
     "text": [
      "The number of trips having distances less than 0 = 65200\n"
     ]
    }
   ],
   "source": [
    "#All such trips\n",
    "print('The number of trips having distances less than 0 = {}'.format(len(df.loc[df['trip_distance'] <= 0])))"
   ]
  },
  {
   "cell_type": "code",
   "execution_count": 37,
   "metadata": {},
   "outputs": [
    {
     "name": "stdout",
     "output_type": "stream",
     "text": [
      "The max trip distance = 1178.6\n"
     ]
    }
   ],
   "source": [
    "#Trips that are abnormally high\n",
    "print('The max trip distance = {}'.format(df['trip_distance'].max()))"
   ]
  },
  {
   "cell_type": "code",
   "execution_count": 38,
   "metadata": {},
   "outputs": [
    {
     "name": "stdout",
     "output_type": "stream",
     "text": [
      "Lower limit trip_distance = -2.105\n",
      "Upperr limit trip_distance = 6.175\n"
     ]
    }
   ],
   "source": [
    "#defining the limit\n",
    "trip_lower_lim,trip_upper_lim = det_outliers(df,'trip_distance')"
   ]
  },
  {
   "cell_type": "code",
   "execution_count": 39,
   "metadata": {
    "collapsed": true
   },
   "outputs": [],
   "source": [
    "#removing inconsistency in fare amount\n",
    "df = df.loc[(df['fare_amount']<fare_upper_lim) & (df['fare_amount']>fare_lower_lim) & (df['fare_amount']>0)]"
   ]
  },
  {
   "cell_type": "code",
   "execution_count": 40,
   "metadata": {},
   "outputs": [
    {
     "data": {
      "image/png": "[encoded data removed]",
      "text/plain": [
       "<matplotlib.figure.Figure at 0x6565ab38>"
      ]
     },
     "metadata": {},
     "output_type": "display_data"
    }
   ],
   "source": [
    "#consistent fare amount plot\n",
    "df.boxplot(column='fare_amount')\n",
    "plt.title('Fare amount spread')\n",
    "plt.ylabel('Fare amount')\n",
    "plt.show()"
   ]
  },
  {
   "cell_type": "code",
   "execution_count": 41,
   "metadata": {
    "collapsed": true
   },
   "outputs": [],
   "source": [
    "#removing inconsistency in trip distance\n",
    "df = df.loc[(df['trip_distance']<trip_upper_lim) & (df['trip_distance']>trip_lower_lim) & (df['trip_distance']>0)]"
   ]
  },
  {
   "cell_type": "code",
   "execution_count": 42,
   "metadata": {},
   "outputs": [
    {
     "data": {
      "image/png": "[encoded data removed]",
      "text/plain": [
       "<matplotlib.figure.Figure at 0x65661588>"
      ]
     },
     "metadata": {},
     "output_type": "display_data"
    }
   ],
   "source": [
    "#Consistent Tripdistance plot\n",
    "df.boxplot(column='trip_distance')\n",
    "plt.title('Trip distance spread')\n",
    "plt.ylabel('Trip distance')\n",
    "plt.show()"
   ]
  },
  {
   "cell_type": "code",
   "execution_count": 43,
   "metadata": {},
   "outputs": [
    {
     "data": {
      "image/png": "[encoded data removed]",
      "text/plain": [
       "<matplotlib.figure.Figure at 0x11662ef0>"
      ]
     },
     "metadata": {},
     "output_type": "display_data"
    }
   ],
   "source": [
    "df['trip_distance'].plot.hist()\n",
    "plt.xlabel('Trip Distance')\n",
    "plt.title('Trip distance distribution')\n",
    "plt.show()\n",
    "#default bins = 10"
   ]
  },
  {
   "cell_type": "code",
   "execution_count": 44,
   "metadata": {},
   "outputs": [
    {
     "data": {
      "image/png": "[encoded data removed]",
      "text/plain": [
       "<matplotlib.figure.Figure at 0x779e2588>"
      ]
     },
     "metadata": {},
     "output_type": "display_data"
    }
   ],
   "source": [
    "#increasing bins to 50\n",
    "df['trip_distance'].plot.hist(bins = 50)\n",
    "plt.xlabel('Trip Distance')\n",
    "plt.title('Trip distance distribution')\n",
    "plt.show()\n",
    "#The nature of the plot remains the same, but there are slight increases periodically as well"
   ]
  },
  {
   "cell_type": "code",
   "execution_count": 48,
   "metadata": {},
   "outputs": [
    {
     "data": {
      "image/png": "[encoded data removed]",
      "text/plain": [
       "<matplotlib.figure.Figure at 0x98c54c50>"
      ]
     },
     "metadata": {},
     "output_type": "display_data"
    }
   ],
   "source": [
    "#normalizing \n",
    "df['trip_distance'].plot.hist(normed=1)\n",
    "plt.xlabel('Trip Distance')\n",
    "plt.title('Trip distance distribution')\n",
    "plt.show()\n",
    "#Exponentially decreases"
   ]
  },
  {
   "cell_type": "code",
   "execution_count": 50,
   "metadata": {},
   "outputs": [
    {
     "data": {
      "image/png": "[encoded data removed]",
      "text/plain": [
       "<matplotlib.figure.Figure at 0x8ce03a90>"
      ]
     },
     "metadata": {},
     "output_type": "display_data"
    }
   ],
   "source": [
    "#Using logarithmic scale in Y axis\n",
    "ax = df['trip_distance'].plot.hist()\n",
    "ax.set_yscale('log')\n",
    "plt.xlabel('Trip Distance')\n",
    "plt.title('Trip distance distribution')\n",
    "plt.show()\n",
    "#Linear decrease"
   ]
  },
  {
   "cell_type": "code",
   "execution_count": 51,
   "metadata": {},
   "outputs": [
    {
     "name": "stdout",
     "output_type": "stream",
     "text": [
      "passenger_count\n",
      "0    1.400\n",
      "1    1.470\n",
      "2    1.500\n",
      "3    1.510\n",
      "4    1.560\n",
      "5    1.510\n",
      "6    1.490\n",
      "7    0.305\n",
      "8    1.800\n",
      "9    0.800\n",
      "Name: trip_distance, dtype: float64\n"
     ]
    }
   ],
   "source": [
    "median_trip_distance_per_passenger_count = df.groupby('passenger_count')['trip_distance'].median()\n",
    "print(median_trip_distance_per_passenger_count)"
   ]
  },
  {
   "cell_type": "code",
   "execution_count": 57,
   "metadata": {},
   "outputs": [
    {
     "data": {
      "image/png": "[encoded data removed]",
      "text/plain": [
       "<matplotlib.figure.Figure at 0x98c76f60>"
      ]
     },
     "metadata": {},
     "output_type": "display_data"
    }
   ],
   "source": [
    "median_trip_distance_per_passenger_count.plot.bar(color = 'g', width = 0.5)\n",
    "plt.ylabel('Medin Trip Distance')\n",
    "plt.title('Median Trip Distance Per Passenger Count')\n",
    "plt.show()"
   ]
  },
  {
   "cell_type": "code",
   "execution_count": 61,
   "metadata": {},
   "outputs": [
    {
     "name": "stdout",
     "output_type": "stream",
     "text": [
      "          payment_type payment_type_text\n",
      "VendorID                                \n",
      "1                    2              Cash\n",
      "1                    1             Other\n",
      "1                    1             Other\n",
      "2                    1             Other\n",
      "2                    1             Other\n",
      "1                    2              Cash\n",
      "1                    1             Other\n",
      "1                    2              Cash\n",
      "1                    1             Other\n",
      "1                    1             Other\n"
     ]
    }
   ],
   "source": [
    "df['payment_type_text'] = 1\n",
    "condition = df['payment_type'] == 2\n",
    "df.loc[condition, 'payment_type_text'] = 'Cash'\n",
    "df.loc[~condition, 'payment_type_text'] = 'Other'\n",
    "print(df[['payment_type', 'payment_type_text']].head(10))"
   ]
  },
  {
   "cell_type": "code",
   "execution_count": 62,
   "metadata": {},
   "outputs": [
    {
     "name": "stdout",
     "output_type": "stream",
     "text": [
      "The correlation between no tip and paying cash = 0.929186543847\n"
     ]
    }
   ],
   "source": [
    "print('The correlation between no tip and paying cash = {}'.format((df['payment_type'] == 2).corr(df['tip_amount'] == 0)))"
   ]
  },
  {
   "cell_type": "code",
   "execution_count": null,
   "metadata": {
    "collapsed": true
   },
   "outputs": [],
   "source": []
  }
 ],
 "metadata": {
  "kernelspec": {
   "display_name": "Python 2",
   "language": "python",
   "name": "python2"
  },
  "language_info": {
   "codemirror_mode": {
    "name": "ipython",
    "version": 2
   },
   "file_extension": ".py",
   "mimetype": "text/x-python",
   "name": "python",
   "nbconvert_exporter": "python",
   "pygments_lexer": "ipython2",
   "version": "2.7.13"
  }
 },
 "nbformat": 4,
 "nbformat_minor": 2
}
