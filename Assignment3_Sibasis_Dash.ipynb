{
 "cells": [
  {
   "cell_type": "markdown",
   "metadata": {},
   "source": [
    "![BTS](img/Logo-BTS.jpg)\n",
    "\n",
    "# Session 15: Advanced Visualization\n",
    "\n",
    "### Juan Luis Cano Rodríguez <juan.cano@bts.tech> - Data Science Foundations (2018-11-16)\n",
    "\n",
    "Open this notebook in Google Colaboratory: [![Open in Colab](https://colab.research.google.com/assets/colab-badge.svg)](https://colab.research.google.com/github/Juanlu001/bts-mbds-data-science-foundations/blob/master/sessions/15-Advanced-Visualization.ipynb)"
   ]
  },
  {
   "cell_type": "markdown",
   "metadata": {},
   "source": [
    "## Exercise 1: \"Gapminder\" interactive visualization\n",
    "\n",
    "We will reproduce an example similar to this:"
   ]
  },
  {
   "cell_type": "markdown",
   "metadata": {},
   "source": [
    "1. Load all the datasets in the `data/gapminder` directory, indexing them by `Country`.\n",
    "2. Create a function that receives a `year` _as an integer_ and returns a new dataframe with `Country` as the index and the columns `Fertility`, `Life expectancy`, `Population` and `Group`.\n",
    "3. Create a Plotly `FigureWidget` and visualize a scatter plot of `Life expectancy` vs `Fertility`, using the `Population` as bubble size (you will need some scaling) and coloring by `Group`. _Hint: it will be easier to do as many scatters as regions_\n",
    "4. Decorate the figure with proper X and Y axis labels, a title, a big text showing the year, and a legend (if not present). _Note: The legend might not show the colors_\n",
    "5. Create a function `update_year` that receives a `year` _as an integer_ and updates the data of the existing figure with the values from the selected year. _Note: The update might not be very efficient_\n",
    "6. Create an horizontal slider that ranges from the minimum to the maximum year\n",
    "7. Bind the `update_year` function to changes in the horizontal slider and use it to interactively change the plot"
   ]
  },
  {
   "cell_type": "code",
   "execution_count": 1,
   "metadata": {},
   "outputs": [],
   "source": [
    "import pandas as pd\n",
    "import matplotlib.pyplot as plt\n",
    "\n",
    "%matplotlib inline\n",
    "\n",
    "import numpy as np\n",
    "from plotly import graph_objs as go"
   ]
  },
  {
   "cell_type": "code",
   "execution_count": 2,
   "metadata": {},
   "outputs": [],
   "source": [
    "import seaborn as sns\n",
    "sns.set()"
   ]
  },
  {
   "cell_type": "code",
   "execution_count": 3,
   "metadata": {},
   "outputs": [],
   "source": [
    "import warnings\n",
    "warnings.filterwarnings(\"ignore\")"
   ]
  },
  {
   "cell_type": "code",
   "execution_count": 4,
   "metadata": {},
   "outputs": [
    {
     "data": {
      "text/html": [
       "<div>\n",
       "<style scoped>\n",
       "    .dataframe tbody tr th:only-of-type {\n",
       "        vertical-align: middle;\n",
       "    }\n",
       "\n",
       "    .dataframe tbody tr th {\n",
       "        vertical-align: top;\n",
       "    }\n",
       "\n",
       "    .dataframe thead th {\n",
       "        text-align: right;\n",
       "    }\n",
       "</style>\n",
       "<table border=\"1\" class=\"dataframe\">\n",
       "  <thead>\n",
       "    <tr style=\"text-align: right;\">\n",
       "      <th></th>\n",
       "      <th>1964</th>\n",
       "      <th>1965</th>\n",
       "      <th>1966</th>\n",
       "      <th>1967</th>\n",
       "      <th>1968</th>\n",
       "      <th>1969</th>\n",
       "      <th>1970</th>\n",
       "      <th>1971</th>\n",
       "      <th>1972</th>\n",
       "      <th>1973</th>\n",
       "      <th>...</th>\n",
       "      <th>2004</th>\n",
       "      <th>2005</th>\n",
       "      <th>2006</th>\n",
       "      <th>2007</th>\n",
       "      <th>2008</th>\n",
       "      <th>2009</th>\n",
       "      <th>2010</th>\n",
       "      <th>2011</th>\n",
       "      <th>2012</th>\n",
       "      <th>2013</th>\n",
       "    </tr>\n",
       "    <tr>\n",
       "      <th>Country</th>\n",
       "      <th></th>\n",
       "      <th></th>\n",
       "      <th></th>\n",
       "      <th></th>\n",
       "      <th></th>\n",
       "      <th></th>\n",
       "      <th></th>\n",
       "      <th></th>\n",
       "      <th></th>\n",
       "      <th></th>\n",
       "      <th></th>\n",
       "      <th></th>\n",
       "      <th></th>\n",
       "      <th></th>\n",
       "      <th></th>\n",
       "      <th></th>\n",
       "      <th></th>\n",
       "      <th></th>\n",
       "      <th></th>\n",
       "      <th></th>\n",
       "      <th></th>\n",
       "    </tr>\n",
       "  </thead>\n",
       "  <tbody>\n",
       "    <tr>\n",
       "      <th>Afghanistan</th>\n",
       "      <td>7.671</td>\n",
       "      <td>7.671</td>\n",
       "      <td>7.671</td>\n",
       "      <td>7.671</td>\n",
       "      <td>7.671</td>\n",
       "      <td>7.671</td>\n",
       "      <td>7.671</td>\n",
       "      <td>7.671</td>\n",
       "      <td>7.671</td>\n",
       "      <td>7.671</td>\n",
       "      <td>...</td>\n",
       "      <td>7.136</td>\n",
       "      <td>6.930</td>\n",
       "      <td>6.702</td>\n",
       "      <td>6.456</td>\n",
       "      <td>6.196</td>\n",
       "      <td>5.928</td>\n",
       "      <td>5.659</td>\n",
       "      <td>5.395</td>\n",
       "      <td>5.141</td>\n",
       "      <td>4.900</td>\n",
       "    </tr>\n",
       "    <tr>\n",
       "      <th>Albania</th>\n",
       "      <td>5.711</td>\n",
       "      <td>5.594</td>\n",
       "      <td>5.483</td>\n",
       "      <td>5.376</td>\n",
       "      <td>5.268</td>\n",
       "      <td>5.160</td>\n",
       "      <td>5.050</td>\n",
       "      <td>4.933</td>\n",
       "      <td>4.809</td>\n",
       "      <td>4.677</td>\n",
       "      <td>...</td>\n",
       "      <td>2.004</td>\n",
       "      <td>1.919</td>\n",
       "      <td>1.849</td>\n",
       "      <td>1.796</td>\n",
       "      <td>1.761</td>\n",
       "      <td>1.744</td>\n",
       "      <td>1.741</td>\n",
       "      <td>1.748</td>\n",
       "      <td>1.760</td>\n",
       "      <td>1.771</td>\n",
       "    </tr>\n",
       "    <tr>\n",
       "      <th>Algeria</th>\n",
       "      <td>7.653</td>\n",
       "      <td>7.655</td>\n",
       "      <td>7.657</td>\n",
       "      <td>7.658</td>\n",
       "      <td>7.657</td>\n",
       "      <td>7.652</td>\n",
       "      <td>7.641</td>\n",
       "      <td>7.622</td>\n",
       "      <td>7.591</td>\n",
       "      <td>7.548</td>\n",
       "      <td>...</td>\n",
       "      <td>2.448</td>\n",
       "      <td>2.507</td>\n",
       "      <td>2.580</td>\n",
       "      <td>2.656</td>\n",
       "      <td>2.725</td>\n",
       "      <td>2.781</td>\n",
       "      <td>2.817</td>\n",
       "      <td>2.829</td>\n",
       "      <td>2.820</td>\n",
       "      <td>2.795</td>\n",
       "    </tr>\n",
       "    <tr>\n",
       "      <th>American Samoa</th>\n",
       "      <td>NaN</td>\n",
       "      <td>NaN</td>\n",
       "      <td>NaN</td>\n",
       "      <td>NaN</td>\n",
       "      <td>NaN</td>\n",
       "      <td>NaN</td>\n",
       "      <td>NaN</td>\n",
       "      <td>NaN</td>\n",
       "      <td>NaN</td>\n",
       "      <td>NaN</td>\n",
       "      <td>...</td>\n",
       "      <td>NaN</td>\n",
       "      <td>NaN</td>\n",
       "      <td>NaN</td>\n",
       "      <td>NaN</td>\n",
       "      <td>NaN</td>\n",
       "      <td>NaN</td>\n",
       "      <td>NaN</td>\n",
       "      <td>NaN</td>\n",
       "      <td>NaN</td>\n",
       "      <td>NaN</td>\n",
       "    </tr>\n",
       "    <tr>\n",
       "      <th>Andorra</th>\n",
       "      <td>NaN</td>\n",
       "      <td>NaN</td>\n",
       "      <td>NaN</td>\n",
       "      <td>NaN</td>\n",
       "      <td>NaN</td>\n",
       "      <td>NaN</td>\n",
       "      <td>NaN</td>\n",
       "      <td>NaN</td>\n",
       "      <td>NaN</td>\n",
       "      <td>NaN</td>\n",
       "      <td>...</td>\n",
       "      <td>NaN</td>\n",
       "      <td>NaN</td>\n",
       "      <td>NaN</td>\n",
       "      <td>NaN</td>\n",
       "      <td>NaN</td>\n",
       "      <td>NaN</td>\n",
       "      <td>NaN</td>\n",
       "      <td>NaN</td>\n",
       "      <td>NaN</td>\n",
       "      <td>NaN</td>\n",
       "    </tr>\n",
       "  </tbody>\n",
       "</table>\n",
       "<p>5 rows × 50 columns</p>\n",
       "</div>"
      ],
      "text/plain": [
       "                 1964   1965   1966   1967   1968   1969   1970   1971   1972  \\\n",
       "Country                                                                         \n",
       "Afghanistan     7.671  7.671  7.671  7.671  7.671  7.671  7.671  7.671  7.671   \n",
       "Albania         5.711  5.594  5.483  5.376  5.268  5.160  5.050  4.933  4.809   \n",
       "Algeria         7.653  7.655  7.657  7.658  7.657  7.652  7.641  7.622  7.591   \n",
       "American Samoa    NaN    NaN    NaN    NaN    NaN    NaN    NaN    NaN    NaN   \n",
       "Andorra           NaN    NaN    NaN    NaN    NaN    NaN    NaN    NaN    NaN   \n",
       "\n",
       "                 1973  ...     2004   2005   2006   2007   2008   2009   2010  \\\n",
       "Country                ...                                                      \n",
       "Afghanistan     7.671  ...    7.136  6.930  6.702  6.456  6.196  5.928  5.659   \n",
       "Albania         4.677  ...    2.004  1.919  1.849  1.796  1.761  1.744  1.741   \n",
       "Algeria         7.548  ...    2.448  2.507  2.580  2.656  2.725  2.781  2.817   \n",
       "American Samoa    NaN  ...      NaN    NaN    NaN    NaN    NaN    NaN    NaN   \n",
       "Andorra           NaN  ...      NaN    NaN    NaN    NaN    NaN    NaN    NaN   \n",
       "\n",
       "                 2011   2012   2013  \n",
       "Country                              \n",
       "Afghanistan     5.395  5.141  4.900  \n",
       "Albania         1.748  1.760  1.771  \n",
       "Algeria         2.829  2.820  2.795  \n",
       "American Samoa    NaN    NaN    NaN  \n",
       "Andorra           NaN    NaN    NaN  \n",
       "\n",
       "[5 rows x 50 columns]"
      ]
     },
     "execution_count": 4,
     "metadata": {},
     "output_type": "execute_result"
    }
   ],
   "source": [
    "fertility = pd.read_csv(\"C:\\\\Users\\\\user\\\\Documents\\\\bts-mbds-data-science-foundations-master-22.10\\\\bts-mbds-data-science-foundations\\\\sessions\\\\data\\\\gapminder\\\\fertility.csv\"\n",
    "            ,index_col = 'Country')\n",
    "fertility.head()"
   ]
  },
  {
   "cell_type": "code",
   "execution_count": 5,
   "metadata": {},
   "outputs": [
    {
     "data": {
      "text/html": [
       "<div>\n",
       "<style scoped>\n",
       "    .dataframe tbody tr th:only-of-type {\n",
       "        vertical-align: middle;\n",
       "    }\n",
       "\n",
       "    .dataframe tbody tr th {\n",
       "        vertical-align: top;\n",
       "    }\n",
       "\n",
       "    .dataframe thead th {\n",
       "        text-align: right;\n",
       "    }\n",
       "</style>\n",
       "<table border=\"1\" class=\"dataframe\">\n",
       "  <thead>\n",
       "    <tr style=\"text-align: right;\">\n",
       "      <th></th>\n",
       "      <th>1964</th>\n",
       "      <th>1965</th>\n",
       "      <th>1966</th>\n",
       "      <th>1967</th>\n",
       "      <th>1968</th>\n",
       "      <th>1969</th>\n",
       "      <th>1970</th>\n",
       "      <th>1971</th>\n",
       "      <th>1972</th>\n",
       "      <th>1973</th>\n",
       "      <th>...</th>\n",
       "      <th>2004</th>\n",
       "      <th>2005</th>\n",
       "      <th>2006</th>\n",
       "      <th>2007</th>\n",
       "      <th>2008</th>\n",
       "      <th>2009</th>\n",
       "      <th>2010</th>\n",
       "      <th>2011</th>\n",
       "      <th>2012</th>\n",
       "      <th>2013</th>\n",
       "    </tr>\n",
       "    <tr>\n",
       "      <th>Country</th>\n",
       "      <th></th>\n",
       "      <th></th>\n",
       "      <th></th>\n",
       "      <th></th>\n",
       "      <th></th>\n",
       "      <th></th>\n",
       "      <th></th>\n",
       "      <th></th>\n",
       "      <th></th>\n",
       "      <th></th>\n",
       "      <th></th>\n",
       "      <th></th>\n",
       "      <th></th>\n",
       "      <th></th>\n",
       "      <th></th>\n",
       "      <th></th>\n",
       "      <th></th>\n",
       "      <th></th>\n",
       "      <th></th>\n",
       "      <th></th>\n",
       "      <th></th>\n",
       "    </tr>\n",
       "  </thead>\n",
       "  <tbody>\n",
       "    <tr>\n",
       "      <th>Afghanistan</th>\n",
       "      <td>10474903.0</td>\n",
       "      <td>10697983.0</td>\n",
       "      <td>10927724.0</td>\n",
       "      <td>11163656.0</td>\n",
       "      <td>11411022.0</td>\n",
       "      <td>11676990.0</td>\n",
       "      <td>11964906.0</td>\n",
       "      <td>12273101.0</td>\n",
       "      <td>12593688.0</td>\n",
       "      <td>12915499.0</td>\n",
       "      <td>...</td>\n",
       "      <td>26693486.0</td>\n",
       "      <td>27614718.0</td>\n",
       "      <td>28420974.0</td>\n",
       "      <td>29145841.0</td>\n",
       "      <td>29839994.0</td>\n",
       "      <td>30577756.0</td>\n",
       "      <td>31411743.0</td>\n",
       "      <td>32358260.0</td>\n",
       "      <td>33397058.0</td>\n",
       "      <td>34499915.0</td>\n",
       "    </tr>\n",
       "    <tr>\n",
       "      <th>Albania</th>\n",
       "      <td>1817098.0</td>\n",
       "      <td>1869942.0</td>\n",
       "      <td>1922993.0</td>\n",
       "      <td>1976140.0</td>\n",
       "      <td>2029314.0</td>\n",
       "      <td>2082474.0</td>\n",
       "      <td>2135599.0</td>\n",
       "      <td>2188650.0</td>\n",
       "      <td>2241623.0</td>\n",
       "      <td>2294578.0</td>\n",
       "      <td>...</td>\n",
       "      <td>3124861.0</td>\n",
       "      <td>3141800.0</td>\n",
       "      <td>3156607.0</td>\n",
       "      <td>3169665.0</td>\n",
       "      <td>3181397.0</td>\n",
       "      <td>3192723.0</td>\n",
       "      <td>3204284.0</td>\n",
       "      <td>3215988.0</td>\n",
       "      <td>3227373.0</td>\n",
       "      <td>3238316.0</td>\n",
       "    </tr>\n",
       "    <tr>\n",
       "      <th>Algeria</th>\n",
       "      <td>11654905.0</td>\n",
       "      <td>11923002.0</td>\n",
       "      <td>12229853.0</td>\n",
       "      <td>12572629.0</td>\n",
       "      <td>12945462.0</td>\n",
       "      <td>13338918.0</td>\n",
       "      <td>13746185.0</td>\n",
       "      <td>14165889.0</td>\n",
       "      <td>14600659.0</td>\n",
       "      <td>15052371.0</td>\n",
       "      <td>...</td>\n",
       "      <td>32396048.0</td>\n",
       "      <td>32888449.0</td>\n",
       "      <td>33391954.0</td>\n",
       "      <td>33906605.0</td>\n",
       "      <td>34428028.0</td>\n",
       "      <td>34950168.0</td>\n",
       "      <td>35468208.0</td>\n",
       "      <td>35980193.0</td>\n",
       "      <td>36485828.0</td>\n",
       "      <td>36983924.0</td>\n",
       "    </tr>\n",
       "    <tr>\n",
       "      <th>American Samoa</th>\n",
       "      <td>22672.0</td>\n",
       "      <td>23480.0</td>\n",
       "      <td>24283.0</td>\n",
       "      <td>25087.0</td>\n",
       "      <td>25869.0</td>\n",
       "      <td>26608.0</td>\n",
       "      <td>27288.0</td>\n",
       "      <td>27907.0</td>\n",
       "      <td>28470.0</td>\n",
       "      <td>28983.0</td>\n",
       "      <td>...</td>\n",
       "      <td>61871.0</td>\n",
       "      <td>62962.0</td>\n",
       "      <td>64045.0</td>\n",
       "      <td>65130.0</td>\n",
       "      <td>66217.0</td>\n",
       "      <td>67312.0</td>\n",
       "      <td>68420.0</td>\n",
       "      <td>69543.0</td>\n",
       "      <td>70680.0</td>\n",
       "      <td>71834.0</td>\n",
       "    </tr>\n",
       "    <tr>\n",
       "      <th>Andorra</th>\n",
       "      <td>17438.0</td>\n",
       "      <td>18529.0</td>\n",
       "      <td>19640.0</td>\n",
       "      <td>20772.0</td>\n",
       "      <td>21931.0</td>\n",
       "      <td>23127.0</td>\n",
       "      <td>24364.0</td>\n",
       "      <td>25656.0</td>\n",
       "      <td>26997.0</td>\n",
       "      <td>28357.0</td>\n",
       "      <td>...</td>\n",
       "      <td>75292.0</td>\n",
       "      <td>77888.0</td>\n",
       "      <td>79874.0</td>\n",
       "      <td>81390.0</td>\n",
       "      <td>82577.0</td>\n",
       "      <td>83677.0</td>\n",
       "      <td>84864.0</td>\n",
       "      <td>86165.0</td>\n",
       "      <td>87518.0</td>\n",
       "      <td>88909.0</td>\n",
       "    </tr>\n",
       "  </tbody>\n",
       "</table>\n",
       "<p>5 rows × 50 columns</p>\n",
       "</div>"
      ],
      "text/plain": [
       "                      1964        1965        1966        1967        1968  \\\n",
       "Country                                                                      \n",
       "Afghanistan     10474903.0  10697983.0  10927724.0  11163656.0  11411022.0   \n",
       "Albania          1817098.0   1869942.0   1922993.0   1976140.0   2029314.0   \n",
       "Algeria         11654905.0  11923002.0  12229853.0  12572629.0  12945462.0   \n",
       "American Samoa     22672.0     23480.0     24283.0     25087.0     25869.0   \n",
       "Andorra            17438.0     18529.0     19640.0     20772.0     21931.0   \n",
       "\n",
       "                      1969        1970        1971        1972        1973  \\\n",
       "Country                                                                      \n",
       "Afghanistan     11676990.0  11964906.0  12273101.0  12593688.0  12915499.0   \n",
       "Albania          2082474.0   2135599.0   2188650.0   2241623.0   2294578.0   \n",
       "Algeria         13338918.0  13746185.0  14165889.0  14600659.0  15052371.0   \n",
       "American Samoa     26608.0     27288.0     27907.0     28470.0     28983.0   \n",
       "Andorra            23127.0     24364.0     25656.0     26997.0     28357.0   \n",
       "\n",
       "                   ...            2004        2005        2006        2007  \\\n",
       "Country            ...                                                       \n",
       "Afghanistan        ...      26693486.0  27614718.0  28420974.0  29145841.0   \n",
       "Albania            ...       3124861.0   3141800.0   3156607.0   3169665.0   \n",
       "Algeria            ...      32396048.0  32888449.0  33391954.0  33906605.0   \n",
       "American Samoa     ...         61871.0     62962.0     64045.0     65130.0   \n",
       "Andorra            ...         75292.0     77888.0     79874.0     81390.0   \n",
       "\n",
       "                      2008        2009        2010        2011        2012  \\\n",
       "Country                                                                      \n",
       "Afghanistan     29839994.0  30577756.0  31411743.0  32358260.0  33397058.0   \n",
       "Albania          3181397.0   3192723.0   3204284.0   3215988.0   3227373.0   \n",
       "Algeria         34428028.0  34950168.0  35468208.0  35980193.0  36485828.0   \n",
       "American Samoa     66217.0     67312.0     68420.0     69543.0     70680.0   \n",
       "Andorra            82577.0     83677.0     84864.0     86165.0     87518.0   \n",
       "\n",
       "                      2013  \n",
       "Country                     \n",
       "Afghanistan     34499915.0  \n",
       "Albania          3238316.0  \n",
       "Algeria         36983924.0  \n",
       "American Samoa     71834.0  \n",
       "Andorra            88909.0  \n",
       "\n",
       "[5 rows x 50 columns]"
      ]
     },
     "execution_count": 5,
     "metadata": {},
     "output_type": "execute_result"
    }
   ],
   "source": [
    "population = pd.read_csv(\"C:\\\\Users\\\\user\\\\Documents\\\\bts-mbds-data-science-foundations-master-22.10\\\\bts-mbds-data-science-foundations\\\\sessions\\\\data\\\\gapminder\\\\population.csv\"\n",
    "                        ,index_col = 'Country')\n",
    "population.head()"
   ]
  },
  {
   "cell_type": "code",
   "execution_count": 6,
   "metadata": {},
   "outputs": [
    {
     "data": {
      "text/html": [
       "<div>\n",
       "<style scoped>\n",
       "    .dataframe tbody tr th:only-of-type {\n",
       "        vertical-align: middle;\n",
       "    }\n",
       "\n",
       "    .dataframe tbody tr th {\n",
       "        vertical-align: top;\n",
       "    }\n",
       "\n",
       "    .dataframe thead th {\n",
       "        text-align: right;\n",
       "    }\n",
       "</style>\n",
       "<table border=\"1\" class=\"dataframe\">\n",
       "  <thead>\n",
       "    <tr style=\"text-align: right;\">\n",
       "      <th></th>\n",
       "      <th>1964</th>\n",
       "      <th>1965</th>\n",
       "      <th>1966</th>\n",
       "      <th>1967</th>\n",
       "      <th>1968</th>\n",
       "      <th>1969</th>\n",
       "      <th>1970</th>\n",
       "      <th>1971</th>\n",
       "      <th>1972</th>\n",
       "      <th>1973</th>\n",
       "      <th>...</th>\n",
       "      <th>2004</th>\n",
       "      <th>2005</th>\n",
       "      <th>2006</th>\n",
       "      <th>2007</th>\n",
       "      <th>2008</th>\n",
       "      <th>2009</th>\n",
       "      <th>2010</th>\n",
       "      <th>2011</th>\n",
       "      <th>2012</th>\n",
       "      <th>2013</th>\n",
       "    </tr>\n",
       "    <tr>\n",
       "      <th>Country</th>\n",
       "      <th></th>\n",
       "      <th></th>\n",
       "      <th></th>\n",
       "      <th></th>\n",
       "      <th></th>\n",
       "      <th></th>\n",
       "      <th></th>\n",
       "      <th></th>\n",
       "      <th></th>\n",
       "      <th></th>\n",
       "      <th></th>\n",
       "      <th></th>\n",
       "      <th></th>\n",
       "      <th></th>\n",
       "      <th></th>\n",
       "      <th></th>\n",
       "      <th></th>\n",
       "      <th></th>\n",
       "      <th></th>\n",
       "      <th></th>\n",
       "      <th></th>\n",
       "    </tr>\n",
       "  </thead>\n",
       "  <tbody>\n",
       "    <tr>\n",
       "      <th>Afghanistan</th>\n",
       "      <td>33.639</td>\n",
       "      <td>34.152</td>\n",
       "      <td>34.662</td>\n",
       "      <td>35.170</td>\n",
       "      <td>35.674</td>\n",
       "      <td>36.172</td>\n",
       "      <td>36.663</td>\n",
       "      <td>37.143</td>\n",
       "      <td>37.614</td>\n",
       "      <td>38.075</td>\n",
       "      <td>...</td>\n",
       "      <td>56.583</td>\n",
       "      <td>57.071</td>\n",
       "      <td>57.582</td>\n",
       "      <td>58.102</td>\n",
       "      <td>58.618</td>\n",
       "      <td>59.124</td>\n",
       "      <td>59.612</td>\n",
       "      <td>60.079</td>\n",
       "      <td>60.524</td>\n",
       "      <td>60.947</td>\n",
       "    </tr>\n",
       "    <tr>\n",
       "      <th>Albania</th>\n",
       "      <td>65.475</td>\n",
       "      <td>65.863</td>\n",
       "      <td>66.122</td>\n",
       "      <td>66.316</td>\n",
       "      <td>66.500</td>\n",
       "      <td>66.702</td>\n",
       "      <td>66.948</td>\n",
       "      <td>67.251</td>\n",
       "      <td>67.595</td>\n",
       "      <td>67.966</td>\n",
       "      <td>...</td>\n",
       "      <td>75.725</td>\n",
       "      <td>75.949</td>\n",
       "      <td>76.124</td>\n",
       "      <td>76.278</td>\n",
       "      <td>76.433</td>\n",
       "      <td>76.598</td>\n",
       "      <td>76.780</td>\n",
       "      <td>76.979</td>\n",
       "      <td>77.185</td>\n",
       "      <td>77.392</td>\n",
       "    </tr>\n",
       "    <tr>\n",
       "      <th>Algeria</th>\n",
       "      <td>47.953</td>\n",
       "      <td>48.389</td>\n",
       "      <td>48.806</td>\n",
       "      <td>49.205</td>\n",
       "      <td>49.592</td>\n",
       "      <td>49.976</td>\n",
       "      <td>50.366</td>\n",
       "      <td>50.767</td>\n",
       "      <td>51.195</td>\n",
       "      <td>51.670</td>\n",
       "      <td>...</td>\n",
       "      <td>69.682</td>\n",
       "      <td>69.854</td>\n",
       "      <td>70.020</td>\n",
       "      <td>70.180</td>\n",
       "      <td>70.332</td>\n",
       "      <td>70.477</td>\n",
       "      <td>70.615</td>\n",
       "      <td>70.747</td>\n",
       "      <td>70.874</td>\n",
       "      <td>71.000</td>\n",
       "    </tr>\n",
       "    <tr>\n",
       "      <th>American Samoa</th>\n",
       "      <td>NaN</td>\n",
       "      <td>NaN</td>\n",
       "      <td>NaN</td>\n",
       "      <td>NaN</td>\n",
       "      <td>NaN</td>\n",
       "      <td>NaN</td>\n",
       "      <td>NaN</td>\n",
       "      <td>NaN</td>\n",
       "      <td>NaN</td>\n",
       "      <td>NaN</td>\n",
       "      <td>...</td>\n",
       "      <td>NaN</td>\n",
       "      <td>NaN</td>\n",
       "      <td>NaN</td>\n",
       "      <td>NaN</td>\n",
       "      <td>NaN</td>\n",
       "      <td>NaN</td>\n",
       "      <td>NaN</td>\n",
       "      <td>NaN</td>\n",
       "      <td>NaN</td>\n",
       "      <td>NaN</td>\n",
       "    </tr>\n",
       "    <tr>\n",
       "      <th>Andorra</th>\n",
       "      <td>NaN</td>\n",
       "      <td>NaN</td>\n",
       "      <td>NaN</td>\n",
       "      <td>NaN</td>\n",
       "      <td>NaN</td>\n",
       "      <td>NaN</td>\n",
       "      <td>NaN</td>\n",
       "      <td>NaN</td>\n",
       "      <td>NaN</td>\n",
       "      <td>NaN</td>\n",
       "      <td>...</td>\n",
       "      <td>NaN</td>\n",
       "      <td>NaN</td>\n",
       "      <td>NaN</td>\n",
       "      <td>NaN</td>\n",
       "      <td>NaN</td>\n",
       "      <td>NaN</td>\n",
       "      <td>NaN</td>\n",
       "      <td>NaN</td>\n",
       "      <td>NaN</td>\n",
       "      <td>NaN</td>\n",
       "    </tr>\n",
       "  </tbody>\n",
       "</table>\n",
       "<p>5 rows × 50 columns</p>\n",
       "</div>"
      ],
      "text/plain": [
       "                  1964    1965    1966    1967    1968    1969    1970  \\\n",
       "Country                                                                  \n",
       "Afghanistan     33.639  34.152  34.662  35.170  35.674  36.172  36.663   \n",
       "Albania         65.475  65.863  66.122  66.316  66.500  66.702  66.948   \n",
       "Algeria         47.953  48.389  48.806  49.205  49.592  49.976  50.366   \n",
       "American Samoa     NaN     NaN     NaN     NaN     NaN     NaN     NaN   \n",
       "Andorra            NaN     NaN     NaN     NaN     NaN     NaN     NaN   \n",
       "\n",
       "                  1971    1972    1973   ...      2004    2005    2006  \\\n",
       "Country                                  ...                             \n",
       "Afghanistan     37.143  37.614  38.075   ...    56.583  57.071  57.582   \n",
       "Albania         67.251  67.595  67.966   ...    75.725  75.949  76.124   \n",
       "Algeria         50.767  51.195  51.670   ...    69.682  69.854  70.020   \n",
       "American Samoa     NaN     NaN     NaN   ...       NaN     NaN     NaN   \n",
       "Andorra            NaN     NaN     NaN   ...       NaN     NaN     NaN   \n",
       "\n",
       "                  2007    2008    2009    2010    2011    2012    2013  \n",
       "Country                                                                 \n",
       "Afghanistan     58.102  58.618  59.124  59.612  60.079  60.524  60.947  \n",
       "Albania         76.278  76.433  76.598  76.780  76.979  77.185  77.392  \n",
       "Algeria         70.180  70.332  70.477  70.615  70.747  70.874  71.000  \n",
       "American Samoa     NaN     NaN     NaN     NaN     NaN     NaN     NaN  \n",
       "Andorra            NaN     NaN     NaN     NaN     NaN     NaN     NaN  \n",
       "\n",
       "[5 rows x 50 columns]"
      ]
     },
     "execution_count": 6,
     "metadata": {},
     "output_type": "execute_result"
    }
   ],
   "source": [
    "life_exp = pd.read_csv(\"C:\\\\Users\\\\user\\\\Documents\\\\bts-mbds-data-science-foundations-master-22.10\\\\bts-mbds-data-science-foundations\\\\sessions\\\\data\\\\gapminder\\\\life_expectancy.csv\"\n",
    "            ,index_col = 'Country')\n",
    "life_exp.head()"
   ]
  },
  {
   "cell_type": "code",
   "execution_count": 7,
   "metadata": {},
   "outputs": [
    {
     "data": {
      "text/html": [
       "<div>\n",
       "<style scoped>\n",
       "    .dataframe tbody tr th:only-of-type {\n",
       "        vertical-align: middle;\n",
       "    }\n",
       "\n",
       "    .dataframe tbody tr th {\n",
       "        vertical-align: top;\n",
       "    }\n",
       "\n",
       "    .dataframe thead th {\n",
       "        text-align: right;\n",
       "    }\n",
       "</style>\n",
       "<table border=\"1\" class=\"dataframe\">\n",
       "  <thead>\n",
       "    <tr style=\"text-align: right;\">\n",
       "      <th></th>\n",
       "      <th>Group</th>\n",
       "      <th>ID</th>\n",
       "    </tr>\n",
       "    <tr>\n",
       "      <th>Country</th>\n",
       "      <th></th>\n",
       "      <th></th>\n",
       "    </tr>\n",
       "  </thead>\n",
       "  <tbody>\n",
       "    <tr>\n",
       "      <th>Angola</th>\n",
       "      <td>Sub-Saharan Africa</td>\n",
       "      <td>AO</td>\n",
       "    </tr>\n",
       "    <tr>\n",
       "      <th>Benin</th>\n",
       "      <td>Sub-Saharan Africa</td>\n",
       "      <td>BJ</td>\n",
       "    </tr>\n",
       "    <tr>\n",
       "      <th>Botswana</th>\n",
       "      <td>Sub-Saharan Africa</td>\n",
       "      <td>BW</td>\n",
       "    </tr>\n",
       "    <tr>\n",
       "      <th>Burkina Faso</th>\n",
       "      <td>Sub-Saharan Africa</td>\n",
       "      <td>BF</td>\n",
       "    </tr>\n",
       "    <tr>\n",
       "      <th>Burundi</th>\n",
       "      <td>Sub-Saharan Africa</td>\n",
       "      <td>BI</td>\n",
       "    </tr>\n",
       "  </tbody>\n",
       "</table>\n",
       "</div>"
      ],
      "text/plain": [
       "                           Group  ID\n",
       "Country                             \n",
       "Angola        Sub-Saharan Africa  AO\n",
       "Benin         Sub-Saharan Africa  BJ\n",
       "Botswana      Sub-Saharan Africa  BW\n",
       "Burkina Faso  Sub-Saharan Africa  BF\n",
       "Burundi       Sub-Saharan Africa  BI"
      ]
     },
     "execution_count": 7,
     "metadata": {},
     "output_type": "execute_result"
    }
   ],
   "source": [
    "regions = pd.read_csv(\"C:\\\\Users\\\\user\\\\Documents\\\\bts-mbds-data-science-foundations-master-22.10\\\\bts-mbds-data-science-foundations\\\\sessions\\\\data\\\\gapminder\\\\regions.csv\"\n",
    "                    ,index_col = 'Country')\n",
    "regions.head()"
   ]
  },
  {
   "cell_type": "code",
   "execution_count": 8,
   "metadata": {},
   "outputs": [
    {
     "data": {
      "text/html": [
       "<div>\n",
       "<style scoped>\n",
       "    .dataframe tbody tr th:only-of-type {\n",
       "        vertical-align: middle;\n",
       "    }\n",
       "\n",
       "    .dataframe tbody tr th {\n",
       "        vertical-align: top;\n",
       "    }\n",
       "\n",
       "    .dataframe thead th {\n",
       "        text-align: right;\n",
       "    }\n",
       "</style>\n",
       "<table border=\"1\" class=\"dataframe\">\n",
       "  <thead>\n",
       "    <tr style=\"text-align: right;\">\n",
       "      <th></th>\n",
       "      <th>1964</th>\n",
       "      <th>1965</th>\n",
       "      <th>1966</th>\n",
       "      <th>1967</th>\n",
       "      <th>1968</th>\n",
       "      <th>1969</th>\n",
       "      <th>1970</th>\n",
       "      <th>1971</th>\n",
       "      <th>1972</th>\n",
       "      <th>1973</th>\n",
       "      <th>...</th>\n",
       "      <th>2004</th>\n",
       "      <th>2005</th>\n",
       "      <th>2006</th>\n",
       "      <th>2007</th>\n",
       "      <th>2008</th>\n",
       "      <th>2009</th>\n",
       "      <th>2010</th>\n",
       "      <th>2011</th>\n",
       "      <th>2012</th>\n",
       "      <th>2013</th>\n",
       "    </tr>\n",
       "    <tr>\n",
       "      <th>Country</th>\n",
       "      <th></th>\n",
       "      <th></th>\n",
       "      <th></th>\n",
       "      <th></th>\n",
       "      <th></th>\n",
       "      <th></th>\n",
       "      <th></th>\n",
       "      <th></th>\n",
       "      <th></th>\n",
       "      <th></th>\n",
       "      <th></th>\n",
       "      <th></th>\n",
       "      <th></th>\n",
       "      <th></th>\n",
       "      <th></th>\n",
       "      <th></th>\n",
       "      <th></th>\n",
       "      <th></th>\n",
       "      <th></th>\n",
       "      <th></th>\n",
       "      <th></th>\n",
       "    </tr>\n",
       "  </thead>\n",
       "  <tbody>\n",
       "    <tr>\n",
       "      <th>Afghanistan</th>\n",
       "      <td>33.639</td>\n",
       "      <td>34.152</td>\n",
       "      <td>34.662</td>\n",
       "      <td>35.170</td>\n",
       "      <td>35.674</td>\n",
       "      <td>36.172</td>\n",
       "      <td>36.663</td>\n",
       "      <td>37.143</td>\n",
       "      <td>37.614</td>\n",
       "      <td>38.075</td>\n",
       "      <td>...</td>\n",
       "      <td>56.583</td>\n",
       "      <td>57.071</td>\n",
       "      <td>57.582</td>\n",
       "      <td>58.102</td>\n",
       "      <td>58.618</td>\n",
       "      <td>59.124</td>\n",
       "      <td>59.612</td>\n",
       "      <td>60.079</td>\n",
       "      <td>60.524</td>\n",
       "      <td>60.947</td>\n",
       "    </tr>\n",
       "    <tr>\n",
       "      <th>Albania</th>\n",
       "      <td>65.475</td>\n",
       "      <td>65.863</td>\n",
       "      <td>66.122</td>\n",
       "      <td>66.316</td>\n",
       "      <td>66.500</td>\n",
       "      <td>66.702</td>\n",
       "      <td>66.948</td>\n",
       "      <td>67.251</td>\n",
       "      <td>67.595</td>\n",
       "      <td>67.966</td>\n",
       "      <td>...</td>\n",
       "      <td>75.725</td>\n",
       "      <td>75.949</td>\n",
       "      <td>76.124</td>\n",
       "      <td>76.278</td>\n",
       "      <td>76.433</td>\n",
       "      <td>76.598</td>\n",
       "      <td>76.780</td>\n",
       "      <td>76.979</td>\n",
       "      <td>77.185</td>\n",
       "      <td>77.392</td>\n",
       "    </tr>\n",
       "    <tr>\n",
       "      <th>Algeria</th>\n",
       "      <td>47.953</td>\n",
       "      <td>48.389</td>\n",
       "      <td>48.806</td>\n",
       "      <td>49.205</td>\n",
       "      <td>49.592</td>\n",
       "      <td>49.976</td>\n",
       "      <td>50.366</td>\n",
       "      <td>50.767</td>\n",
       "      <td>51.195</td>\n",
       "      <td>51.670</td>\n",
       "      <td>...</td>\n",
       "      <td>69.682</td>\n",
       "      <td>69.854</td>\n",
       "      <td>70.020</td>\n",
       "      <td>70.180</td>\n",
       "      <td>70.332</td>\n",
       "      <td>70.477</td>\n",
       "      <td>70.615</td>\n",
       "      <td>70.747</td>\n",
       "      <td>70.874</td>\n",
       "      <td>71.000</td>\n",
       "    </tr>\n",
       "    <tr>\n",
       "      <th>American Samoa</th>\n",
       "      <td>NaN</td>\n",
       "      <td>NaN</td>\n",
       "      <td>NaN</td>\n",
       "      <td>NaN</td>\n",
       "      <td>NaN</td>\n",
       "      <td>NaN</td>\n",
       "      <td>NaN</td>\n",
       "      <td>NaN</td>\n",
       "      <td>NaN</td>\n",
       "      <td>NaN</td>\n",
       "      <td>...</td>\n",
       "      <td>NaN</td>\n",
       "      <td>NaN</td>\n",
       "      <td>NaN</td>\n",
       "      <td>NaN</td>\n",
       "      <td>NaN</td>\n",
       "      <td>NaN</td>\n",
       "      <td>NaN</td>\n",
       "      <td>NaN</td>\n",
       "      <td>NaN</td>\n",
       "      <td>NaN</td>\n",
       "    </tr>\n",
       "    <tr>\n",
       "      <th>Andorra</th>\n",
       "      <td>NaN</td>\n",
       "      <td>NaN</td>\n",
       "      <td>NaN</td>\n",
       "      <td>NaN</td>\n",
       "      <td>NaN</td>\n",
       "      <td>NaN</td>\n",
       "      <td>NaN</td>\n",
       "      <td>NaN</td>\n",
       "      <td>NaN</td>\n",
       "      <td>NaN</td>\n",
       "      <td>...</td>\n",
       "      <td>NaN</td>\n",
       "      <td>NaN</td>\n",
       "      <td>NaN</td>\n",
       "      <td>NaN</td>\n",
       "      <td>NaN</td>\n",
       "      <td>NaN</td>\n",
       "      <td>NaN</td>\n",
       "      <td>NaN</td>\n",
       "      <td>NaN</td>\n",
       "      <td>NaN</td>\n",
       "    </tr>\n",
       "  </tbody>\n",
       "</table>\n",
       "<p>5 rows × 50 columns</p>\n",
       "</div>"
      ],
      "text/plain": [
       "                  1964    1965    1966    1967    1968    1969    1970  \\\n",
       "Country                                                                  \n",
       "Afghanistan     33.639  34.152  34.662  35.170  35.674  36.172  36.663   \n",
       "Albania         65.475  65.863  66.122  66.316  66.500  66.702  66.948   \n",
       "Algeria         47.953  48.389  48.806  49.205  49.592  49.976  50.366   \n",
       "American Samoa     NaN     NaN     NaN     NaN     NaN     NaN     NaN   \n",
       "Andorra            NaN     NaN     NaN     NaN     NaN     NaN     NaN   \n",
       "\n",
       "                  1971    1972    1973   ...      2004    2005    2006  \\\n",
       "Country                                  ...                             \n",
       "Afghanistan     37.143  37.614  38.075   ...    56.583  57.071  57.582   \n",
       "Albania         67.251  67.595  67.966   ...    75.725  75.949  76.124   \n",
       "Algeria         50.767  51.195  51.670   ...    69.682  69.854  70.020   \n",
       "American Samoa     NaN     NaN     NaN   ...       NaN     NaN     NaN   \n",
       "Andorra            NaN     NaN     NaN   ...       NaN     NaN     NaN   \n",
       "\n",
       "                  2007    2008    2009    2010    2011    2012    2013  \n",
       "Country                                                                 \n",
       "Afghanistan     58.102  58.618  59.124  59.612  60.079  60.524  60.947  \n",
       "Albania         76.278  76.433  76.598  76.780  76.979  77.185  77.392  \n",
       "Algeria         70.180  70.332  70.477  70.615  70.747  70.874  71.000  \n",
       "American Samoa     NaN     NaN     NaN     NaN     NaN     NaN     NaN  \n",
       "Andorra            NaN     NaN     NaN     NaN     NaN     NaN     NaN  \n",
       "\n",
       "[5 rows x 50 columns]"
      ]
     },
     "execution_count": 8,
     "metadata": {},
     "output_type": "execute_result"
    }
   ],
   "source": [
    "life_exp.head()"
   ]
  },
  {
   "cell_type": "code",
   "execution_count": 9,
   "metadata": {},
   "outputs": [
    {
     "data": {
      "text/plain": [
       "Index(['1964', '1965', '1966', '1967', '1968', '1969', '1970', '1971', '1972',\n",
       "       '1973', '1974', '1975', '1976', '1977', '1978', '1979', '1980', '1981',\n",
       "       '1982', '1983', '1984', '1985', '1986', '1987', '1988', '1989', '1990',\n",
       "       '1991', '1992', '1993', '1994', '1995', '1996', '1997', '1998', '1999',\n",
       "       '2000', '2001', '2002', '2003', '2004', '2005', '2006', '2007', '2008',\n",
       "       '2009', '2010', '2011', '2012', '2013'],\n",
       "      dtype='object')"
      ]
     },
     "execution_count": 9,
     "metadata": {},
     "output_type": "execute_result"
    }
   ],
   "source": [
    "life_exp.columns"
   ]
  },
  {
   "cell_type": "code",
   "execution_count": 10,
   "metadata": {
    "scrolled": true
   },
   "outputs": [
    {
     "data": {
      "text/plain": [
       "Country\n",
       "Afghanistan                 49.439\n",
       "Albania                     71.799\n",
       "Algeria                     67.049\n",
       "American Samoa                 NaN\n",
       "Andorra                        NaN\n",
       "Angola                      41.221\n",
       "Anguilla                       NaN\n",
       "Antigua and Barbuda         71.568\n",
       "Argentina                   71.791\n",
       "Armenia                     67.864\n",
       "Aruba                       73.509\n",
       "Australia                   77.540\n",
       "Austria                     75.830\n",
       "Azerbaijan                  64.494\n",
       "Bahamas                     70.869\n",
       "Bahrain                     72.587\n",
       "Bangladesh                  60.537\n",
       "Barbados                    71.314\n",
       "Belarus                     70.580\n",
       "Belgium                     76.300\n",
       "Belize                      70.939\n",
       "Benin                       54.033\n",
       "Bermuda                        NaN\n",
       "Bhutan                      53.270\n",
       "Bolivia                     59.341\n",
       "Bosnia and Herzegovina      65.997\n",
       "Botswana                    62.444\n",
       "Brazil                      66.867\n",
       "British Virgin Islands         NaN\n",
       "Brunei                      73.814\n",
       "                             ...  \n",
       "Tanzania                    50.177\n",
       "Thailand                    70.531\n",
       "Timor-Leste                 49.296\n",
       "Togo                        55.872\n",
       "Tokelau                        NaN\n",
       "Tonga                       69.722\n",
       "Trinidad and Tobago         68.094\n",
       "Tunisia                     69.387\n",
       "Turkey                      64.760\n",
       "Turkmenistan                62.764\n",
       "Turks and Caicos Islands       NaN\n",
       "Tuvalu                         NaN\n",
       "Uganda                      47.069\n",
       "Ukraine                     69.640\n",
       "United Arab Emirates        71.781\n",
       "United Kingdom              76.060\n",
       "United States               75.500\n",
       "Uruguay                     72.758\n",
       "Uzbekistan                  66.635\n",
       "Wallis et Futuna               NaN\n",
       "Vanuatu                     63.527\n",
       "Venezuela                   71.275\n",
       "West Bank and Gaza          68.421\n",
       "Western Sahara              58.086\n",
       "Vietnam                     70.981\n",
       "Virgin Islands (U.S.)       75.038\n",
       "Yemen, Rep.                 58.218\n",
       "Zambia                      43.062\n",
       "Zimbabwe                    57.990\n",
       "Åland                          NaN\n",
       "Name: 1991, Length: 244, dtype: float64"
      ]
     },
     "execution_count": 10,
     "metadata": {},
     "output_type": "execute_result"
    }
   ],
   "source": [
    "life_exp[str(1991)]"
   ]
  },
  {
   "cell_type": "code",
   "execution_count": 11,
   "metadata": {},
   "outputs": [],
   "source": [
    "def by_year(year):\n",
    "    return pd.DataFrame({\n",
    "        'Population': population[str(year)],\n",
    "        'Fertility': fertility[str(year)],\n",
    "        'Life expectancy': life_exp[str(year)],\n",
    "        'Group': regions['Group'],\n",
    "    })"
   ]
  },
  {
   "cell_type": "code",
   "execution_count": 12,
   "metadata": {},
   "outputs": [
    {
     "data": {
      "text/html": [
       "<div>\n",
       "<style scoped>\n",
       "    .dataframe tbody tr th:only-of-type {\n",
       "        vertical-align: middle;\n",
       "    }\n",
       "\n",
       "    .dataframe tbody tr th {\n",
       "        vertical-align: top;\n",
       "    }\n",
       "\n",
       "    .dataframe thead th {\n",
       "        text-align: right;\n",
       "    }\n",
       "</style>\n",
       "<table border=\"1\" class=\"dataframe\">\n",
       "  <thead>\n",
       "    <tr style=\"text-align: right;\">\n",
       "      <th></th>\n",
       "      <th>Population</th>\n",
       "      <th>Fertility</th>\n",
       "      <th>Life expectancy</th>\n",
       "      <th>Group</th>\n",
       "    </tr>\n",
       "  </thead>\n",
       "  <tbody>\n",
       "    <tr>\n",
       "      <th>Afghanistan</th>\n",
       "      <td>14069854.0</td>\n",
       "      <td>7.700</td>\n",
       "      <td>49.439</td>\n",
       "      <td>South Asia</td>\n",
       "    </tr>\n",
       "    <tr>\n",
       "      <th>Albania</th>\n",
       "      <td>3291695.0</td>\n",
       "      <td>2.917</td>\n",
       "      <td>71.799</td>\n",
       "      <td>Europe &amp; Central Asia</td>\n",
       "    </tr>\n",
       "    <tr>\n",
       "      <th>Algeria</th>\n",
       "      <td>25930560.0</td>\n",
       "      <td>4.503</td>\n",
       "      <td>67.049</td>\n",
       "      <td>Middle East &amp; North Africa</td>\n",
       "    </tr>\n",
       "    <tr>\n",
       "      <th>American Samoa</th>\n",
       "      <td>48402.0</td>\n",
       "      <td>NaN</td>\n",
       "      <td>NaN</td>\n",
       "      <td>East Asia &amp; Pacific</td>\n",
       "    </tr>\n",
       "    <tr>\n",
       "      <th>Andorra</th>\n",
       "      <td>54996.0</td>\n",
       "      <td>NaN</td>\n",
       "      <td>NaN</td>\n",
       "      <td>Europe &amp; Central Asia</td>\n",
       "    </tr>\n",
       "  </tbody>\n",
       "</table>\n",
       "</div>"
      ],
      "text/plain": [
       "                Population  Fertility  Life expectancy  \\\n",
       "Afghanistan     14069854.0      7.700           49.439   \n",
       "Albania          3291695.0      2.917           71.799   \n",
       "Algeria         25930560.0      4.503           67.049   \n",
       "American Samoa     48402.0        NaN              NaN   \n",
       "Andorra            54996.0        NaN              NaN   \n",
       "\n",
       "                                     Group  \n",
       "Afghanistan                     South Asia  \n",
       "Albania              Europe & Central Asia  \n",
       "Algeria         Middle East & North Africa  \n",
       "American Samoa         East Asia & Pacific  \n",
       "Andorra              Europe & Central Asia  "
      ]
     },
     "execution_count": 12,
     "metadata": {},
     "output_type": "execute_result"
    }
   ],
   "source": [
    "df = by_year(1991)\n",
    "df.head()"
   ]
  },
  {
   "cell_type": "code",
   "execution_count": 13,
   "metadata": {},
   "outputs": [],
   "source": [
    "year = 1991"
   ]
  },
  {
   "cell_type": "code",
   "execution_count": 50,
   "metadata": {},
   "outputs": [
    {
     "data": {
      "application/vnd.jupyter.widget-view+json": {
       "model_id": "7daea5676dcd48fc8c21db80f796a530",
       "version_major": 2,
       "version_minor": 0
      },
      "text/plain": [
       "FigureWidget({\n",
       "    'data': [], 'layout': {}\n",
       "})"
      ]
     },
     "metadata": {},
     "output_type": "display_data"
    }
   ],
   "source": [
    "fig = go.FigureWidget()\n",
    "fig"
   ]
  },
  {
   "cell_type": "code",
   "execution_count": 15,
   "metadata": {},
   "outputs": [
    {
     "data": {
      "text/html": [
       "<div>\n",
       "<style scoped>\n",
       "    .dataframe tbody tr th:only-of-type {\n",
       "        vertical-align: middle;\n",
       "    }\n",
       "\n",
       "    .dataframe tbody tr th {\n",
       "        vertical-align: top;\n",
       "    }\n",
       "\n",
       "    .dataframe thead th {\n",
       "        text-align: right;\n",
       "    }\n",
       "</style>\n",
       "<table border=\"1\" class=\"dataframe\">\n",
       "  <thead>\n",
       "    <tr style=\"text-align: right;\">\n",
       "      <th></th>\n",
       "      <th>Population</th>\n",
       "      <th>Fertility</th>\n",
       "      <th>Life expectancy</th>\n",
       "      <th>Group</th>\n",
       "    </tr>\n",
       "  </thead>\n",
       "  <tbody>\n",
       "    <tr>\n",
       "      <th>Afghanistan</th>\n",
       "      <td>14069854.0</td>\n",
       "      <td>7.700</td>\n",
       "      <td>49.439</td>\n",
       "      <td>South Asia</td>\n",
       "    </tr>\n",
       "    <tr>\n",
       "      <th>Albania</th>\n",
       "      <td>3291695.0</td>\n",
       "      <td>2.917</td>\n",
       "      <td>71.799</td>\n",
       "      <td>Europe &amp; Central Asia</td>\n",
       "    </tr>\n",
       "    <tr>\n",
       "      <th>Algeria</th>\n",
       "      <td>25930560.0</td>\n",
       "      <td>4.503</td>\n",
       "      <td>67.049</td>\n",
       "      <td>Middle East &amp; North Africa</td>\n",
       "    </tr>\n",
       "    <tr>\n",
       "      <th>American Samoa</th>\n",
       "      <td>48402.0</td>\n",
       "      <td>NaN</td>\n",
       "      <td>NaN</td>\n",
       "      <td>East Asia &amp; Pacific</td>\n",
       "    </tr>\n",
       "    <tr>\n",
       "      <th>Andorra</th>\n",
       "      <td>54996.0</td>\n",
       "      <td>NaN</td>\n",
       "      <td>NaN</td>\n",
       "      <td>Europe &amp; Central Asia</td>\n",
       "    </tr>\n",
       "  </tbody>\n",
       "</table>\n",
       "</div>"
      ],
      "text/plain": [
       "                Population  Fertility  Life expectancy  \\\n",
       "Afghanistan     14069854.0      7.700           49.439   \n",
       "Albania          3291695.0      2.917           71.799   \n",
       "Algeria         25930560.0      4.503           67.049   \n",
       "American Samoa     48402.0        NaN              NaN   \n",
       "Andorra            54996.0        NaN              NaN   \n",
       "\n",
       "                                     Group  \n",
       "Afghanistan                     South Asia  \n",
       "Albania              Europe & Central Asia  \n",
       "Algeria         Middle East & North Africa  \n",
       "American Samoa         East Asia & Pacific  \n",
       "Andorra              Europe & Central Asia  "
      ]
     },
     "execution_count": 15,
     "metadata": {},
     "output_type": "execute_result"
    }
   ],
   "source": [
    "df.head()"
   ]
  },
  {
   "cell_type": "code",
   "execution_count": 16,
   "metadata": {},
   "outputs": [
    {
     "name": "stdout",
     "output_type": "stream",
     "text": [
      "America <class 'pandas.core.frame.DataFrame'>\n",
      "East Asia & Pacific <class 'pandas.core.frame.DataFrame'>\n",
      "Europe & Central Asia <class 'pandas.core.frame.DataFrame'>\n",
      "Middle East & North Africa <class 'pandas.core.frame.DataFrame'>\n",
      "South Asia <class 'pandas.core.frame.DataFrame'>\n",
      "Sub-Saharan Africa <class 'pandas.core.frame.DataFrame'>\n"
     ]
    }
   ],
   "source": [
    "for a, b in df.groupby(\"Group\"):\n",
    "    print(a, type(b))"
   ]
  },
  {
   "cell_type": "code",
   "execution_count": 17,
   "metadata": {},
   "outputs": [],
   "source": [
    "for group_name, sub_df in df.groupby(\"Group\"):\n",
    "    sc = fig.add_scatter(\n",
    "        x=sub_df['Fertility'],\n",
    "        y=sub_df['Life expectancy'],\n",
    "        mode='markers',\n",
    "        marker={\n",
    "            'size': np.sqrt(sub_df['Population'].fillna(0))/ 400\n",
    "        },\n",
    "        name=group_name,\n",
    "    )"
   ]
  },
  {
   "cell_type": "markdown",
   "metadata": {},
   "source": [
    "Decorate the figure with proper X and Y axis labels, a title, a big text showing the year, and a legend (if not present)."
   ]
  },
  {
   "cell_type": "code",
   "execution_count": 52,
   "metadata": {},
   "outputs": [],
   "source": [
    "fig.layout.xaxis = dict(title=\"Fertility\")\n",
    "fig.layout.yaxis = dict(title=\"Life Expectancy\")\n",
    "fig.layout.title = \"Region Wise:Life Expectancy VS Fertility Map in the year {}\".format(year)\n",
    "fig.layout.titlefont.color='blue'\n",
    "fig.layout.titlefont.size=20.0\n",
    "fig.layout.legend.font.family = 'Courier New'"
   ]
  },
  {
   "cell_type": "markdown",
   "metadata": {},
   "source": [
    "Create a function update_year that receives a year as an integer and updates the data of the existing figure with the values from the selected year. "
   ]
  },
  {
   "cell_type": "code",
   "execution_count": 59,
   "metadata": {},
   "outputs": [],
   "source": [
    "#update year function\n",
    "\n",
    "def update_year(new_year):\n",
    "    fig.data=[] #the legends were getting appended, thus to remove previous data initializing with empty array\n",
    "    if new_year in range(1964,2014):\n",
    "         for group_name, sub_df in df.groupby(\"Group\"):\n",
    "            fig.layout.xaxis = dict(title=\"Fertility\")\n",
    "            fig.layout.yaxis = dict(title=\"Life Expectancy\")\n",
    "            fig.layout.title = \"Region Wise:Life Expectancy VS Fertility Map in the year {}\".format(new_year)\n",
    "            fig.layout.titlefont.color='red'\n",
    "            fig.layout.titlefont.size=20.0\n",
    "            fig.layout.legend.font.family = 'Courier New'\n",
    "            sc1 = fig.add_scatter(\n",
    "            x=sub_df['Fertility'],\n",
    "            y=sub_df['Life expectancy'],\n",
    "            mode='markers',\n",
    "            marker={\n",
    "            'size': np.sqrt(sub_df['Population'].fillna(0))/ 400  #normalizing \n",
    "            },\n",
    "            name=group_name,\n",
    "            )\n",
    "     \n",
    "    "
   ]
  },
  {
   "cell_type": "code",
   "execution_count": 60,
   "metadata": {},
   "outputs": [],
   "source": [
    "update_year(2013)"
   ]
  },
  {
   "cell_type": "markdown",
   "metadata": {},
   "source": [
    "Create an horizontal slider that ranges from the minimum to the maximum year"
   ]
  },
  {
   "cell_type": "code",
   "execution_count": 61,
   "metadata": {},
   "outputs": [],
   "source": [
    "from ipywidgets import IntSlider\n",
    "from ipywidgets import interact"
   ]
  },
  {
   "cell_type": "code",
   "execution_count": 62,
   "metadata": {},
   "outputs": [],
   "source": [
    "#value=initial value, min=minimum value, max=maximum value\n",
    "slider = IntSlider(value=life_exp.columns.astype(int).min(),min=life_exp.columns.astype(int).min(),max=life_exp.columns.astype(int).max())"
   ]
  },
  {
   "cell_type": "code",
   "execution_count": 63,
   "metadata": {},
   "outputs": [
    {
     "data": {
      "application/vnd.jupyter.widget-view+json": {
       "model_id": "fe87b5073d334d589bf19d09ccdf2e08",
       "version_major": 2,
       "version_minor": 0
      },
      "text/plain": [
       "IntSlider(value=1964, max=2013, min=1964)"
      ]
     },
     "metadata": {},
     "output_type": "display_data"
    }
   ],
   "source": [
    "slider"
   ]
  },
  {
   "cell_type": "markdown",
   "metadata": {},
   "source": [
    "Bind the update_year function to changes in the horizontal slider and use it to interactively change the plot`"
   ]
  },
  {
   "cell_type": "code",
   "execution_count": 64,
   "metadata": {},
   "outputs": [
    {
     "data": {
      "application/vnd.jupyter.widget-view+json": {
       "model_id": "0356e0a0789d462ba853731a2f8a9760",
       "version_major": 2,
       "version_minor": 0
      },
      "text/plain": [
       "interactive(children=(IntSlider(value=1964, description='new_year', max=2013, min=1964), Output()), _dom_class…"
      ]
     },
     "metadata": {},
     "output_type": "display_data"
    },
    {
     "data": {
      "application/vnd.jupyter.widget-view+json": {
       "model_id": "7daea5676dcd48fc8c21db80f796a530",
       "version_major": 2,
       "version_minor": 0
      },
      "text/plain": [
       "FigureWidget({\n",
       "    'data': [{'marker': {'size': array([ 0.23276866,  0.62626871, 14.38175472,  0.63561978,  1.…"
      ]
     },
     "metadata": {},
     "output_type": "display_data"
    }
   ],
   "source": [
    "interact(update_year,new_year=slider)\n",
    "fig"
   ]
  }
 ],
 "metadata": {
  "kernelspec": {
   "display_name": "Python 3",
   "language": "python",
   "name": "python3"
  },
  "language_info": {
   "codemirror_mode": {
    "name": "ipython",
    "version": 3
   },
   "file_extension": ".py",
   "mimetype": "text/x-python",
   "name": "python",
   "nbconvert_exporter": "python",
   "pygments_lexer": "ipython3",
   "version": "3.7.0"
  },
  "widgets": {
   "application/vnd.jupyter.widget-state+json": {
    "state": {
     "05bea21e90eb4c29b029a306a1f64dad": {
      "buffers": [
       {
        "data": "xnteD13LzT8kH7quZArkP+E3tFp1wyxAdjj6SP9W5D9xE8u13230P8mzBFPraPQ/tVEDDjq08T8Qk7Ff0p7jP8gCRElzGhpAKKPY8kLWPkBM2tH40NfUP21txmRgeypAbGDAz4F32j8mnrwasVIiQO3slBciFy1AmpC257W9EUA6HGbaAFIgQHxyGVv9SuU/QHjIu5QXG0AsNg3AYzIgQHQ2WvI0RBdAuvHr/tkPvT9EVTKkvfDrP0pY1H+l1eg/qW5KLo4C+T8P8jiLujceQDHi9q3aAgFAMgKRBTD4GkBIw5DlrWsWQGNe/jV+2w5AGhcw1VEQ+D9PQhBffCw3QCdJR3MIltA/NpRoRPN/8T8usffqZooUQJGpFyhUaA9AmKB/7fXdFEC/ge5dXYQnQPay693o3xJAAAAAAAAAAAAo9W8t5i/gP9RJt15y8O0/AAAAAAAAAADGgELDxkLqP30ZjkciZMk/ATc32NS0+T8jsMT4BiEGQMG0dkQlr9E/k6TjsxL+Q0D2pFVT7bERQLy8e7aTcyZArfHu9XXA6T8=",
        "encoding": "base64",
        "path": [
         "_data",
         0,
         "marker",
         "size",
         "value"
        ]
       },
       {
        "data": "AAAAAAAA+H8v3SQGgZUAQNrO91PjpQdA+FPjpZvEAUA/NV66SQwFQIPAyqFFtvs/WDm0yHa+EUAAAAAAAAD4fxFYObTIdhNAI9v5fmq8BUAAAAAAAAD4fwaBlUOLbPs/AAAAAAAA+H8tsp3vp8YEQNv5fmq8dAhAuB6F61G4CEBxPQrXo3D7PwAAAAAAAPh/kxgEVg4tC0AnMQisHFoNQEw3iUFg5Q5AAAAAAAAA+H8j2/l+arwPQM/3U+Olmw1AOrTIdr6fAUCamZmZmRkWQLgehetRuANAEoPAyqFFFUD+1HjpJjEUQP7UeOkmMQdAKVyPwvUoAEBI4XoUrkcKQAAAAAAAAPh/UrgehetRAkDFILByaJESQP7UeOkmMQhAmG4Sg8DKEUAtsp3vp8YNQM/3U+OlmwFAAAAAAAAA+H8AAAAAAAD4f/yp8dJNYgpAAAAAAAAA+H+oxks3iUEHQAAAAAAAAPh/ku18PzVeBUCDwMqhRbYCQAAAAAAAAPh/EVg5tMh2AEA/NV66SQwEQPYoXI/C9QpAKVyPwvUoB0A=",
        "encoding": "base64",
        "path": [
         "_data",
         0,
         "x",
         "value"
        ]
       },
       {
        "data": "AAAAAAAA+H8xCKwcWuRRQLTIdr6f8lFAf2q8dJNgUkBWDi2ynbdRQGq8dJMY1FFAarx0kxi8UUAAAAAAAAD4f8/3U+Olq01Ac2iR7Xy3UEAAAAAAAAD4f1yPwvUobFNAAAAAAAAA+H87tMh2vndSQCPb+X5qHFFA4XoUrkf5UkCTGARWDq1SQAAAAAAAAPh/zczMzMwUUUAv3SQGgVVRQKJFtvP9tFBAAAAAAAAA+H+oxks3iRFSQClcj8L1MFFAhetRuB6FUkApXI/C9VhPQLpJDAIrF09AEFg5tMhmS0AMAiuHFslQQIPAyqFFplFAmpmZmZnJUkCsHFpkO89RQAAAAAAAAPh/FwRWDi2iUkDvp8ZLNzlQQB+F61G4TlJAPzVeukkMUUBg5dAi24FQQOxRuB6Fg1JAAAAAAAAA+H8AAAAAAAD4f4cW2c73y1FAAAAAAAAA+H8W2c73U5NRQAAAAAAAAPh/SgwCK4feUEC8dJMYBAZRQAAAAAAAAPh/AAAAAADgUkCNl24SgzBSQJqZmZmZ0VFA30+Nl27CUkA=",
        "encoding": "base64",
        "path": [
         "_data",
         0,
         "y",
         "value"
        ]
       },
       {
        "data": "ZMFXbrGZ4T/Y0oq9HM8kQHeNxn7vXvQ/vQJNYuppH0BlB8EBSEtVQAAAAAAAAAAAAAAAAAAAAAAfT+de/U3VPySro5REJgFAMHIInVPd8T+Tius/BY/tP3303qWNMxhAo/apmzcdQUDKd2WEXrE7QBpdIceQo+U/yNx++qmeJkBdMSjK5nYwQJig4kQlxBRAZSFd1npQ+D8bQQBoUaAlQHlWcHzPnOE/dOaUJrUj6T/GQr0gvNcNQM0poZDVkC9Aem4fMfvyzj/I4vtgU6nwPyZg+i48kBJAVx8MMtCjvj/Wv34TI/y7P6+A8W0LS+E/oZsCx7Tm0z8pVRrLu6QUQKHApbPC3TNAAAAAAAAAAAC5sORA7R/wP6Ya38b0mhFAxbc3HduR9j/xdH3IUKImQA8/71D1/TJAFKrRK82EAUCMnQrnsHa5P2DdBR18sug/xqDEIsFzzj/ArDGPwRDvPzQKquFRsjRAGijQSYvf0j8=",
        "encoding": "base64",
        "path": [
         "_data",
         1,
         "marker",
         "size",
         "value"
        ]
       },
       {
        "data": "AAAAAAAA+H8v3SQGgZX9P3sUrkfhegtAjZduEoPAFUAj2/l+arwCQAAAAAAAAPh/AAAAAAAA+H8AAAAAAAD4f8uhRbbz/QpAiBbZzvdTCkCNl24Sg8AHQNNNYhBYOfQ/yXa+nxovCECPwvUoXI/4P4GVQ4tsZxJAf2q8dJMYAkB/arx0kxj6P+58PzVeOhhABoGVQ4ts+T/hehSuR+ELQAAAAAAAAPh/ukkMAiuHE0ArhxbZzvcNQAisHFpkOwpAAAAAAAAA+H/kpZvEILAHQN3qOel94wJAAAAAAAAA+H8AAAAAAAD4fwAAAAAAAPh/AAAAAAAA+H+6SQwCKwcTQJZDi2zn+xBAAAAAAAAA+H+JQWDl0CIUQK5H4XoUrvs/tvP91HjpFkCF61G4HoX7P3E9CtejcABAxUs3iUHgFUAAAAAAAAD4f6abxCCwchJAAAAAAAAA+H8/NV66SYwTQIgW2c73UwtAAAAAAAAA+H8=",
        "encoding": "base64",
        "path": [
         "_data",
         1,
         "x",
         "value"
        ]
       },
       {
        "data": "AAAAAAAA+H/D9Shcj2JTQGq8dJMYdFJAwcqhRbazS0BGtvP91GhRQAAAAAAAAPh/AAAAAAAA+H8AAAAAAAD4fxFYObTIblBAuB6F61FAUUCmm8QgsApSQOF6FK5HcVNA30+Nl27yT0CkcD0K19NTQKRwPQrXg05Axks3iUF4UUDNzMzMzAxSQNR46SYxeEtAyXa+nxrnUkBzkxgEVr5RQAAAAAAAAPh/zczMzMyUUEBYObTIdj5OQM3MzMzMjE1AAAAAAAAA+H9/arx0k8BRQM3MzMzMDFNAAAAAAAAA+H8AAAAAAAD4fwAAAAAAAPh/AAAAAAAA+H+iRbbz/fRLQO+nxks3WVBAAAAAAAAA+H9/arx0k1hQQJhuEoPAGlNAg8DKoUWWTECPwvUoXI9SQESLbOf7oVFA2s73U+OlSEAAAAAAAAD4f5HtfD81blFAAAAAAAAA+H/6fmq8dMNPQBJYObTIvlFAAAAAAAAA+H8=",
        "encoding": "base64",
        "path": [
         "_data",
         1,
         "y",
         "value"
        ]
       },
       {
        "data": "6x3Ui50kEkD8uf6iz8LiP2mrST2PvRJADlwUiLzIG0BbeTm/yREbQL2u0w3lCCBAEuwimNeVH0CaDitB0WMUQA/uIjSRkR1AevEa5+IE7j9PAQEQg1MVQGzIfYoYswFAltb7cGcNIEDfFyHLZ7QWQGrKj1M46whAkxaM1rhX4T+Nvps6k2EWQPzvsvkH3jJAFPfychhHF0BOuCDW3U82QHFOg6yPQNo/E3VHGG0BIEBN22ilq+HiP4FXjaEnzuM/YiL7qkbIsT/PlGdnGBggQEGG00PPSvQ/+JXp9P7OEkCbWDuVpE/lP0PYegvK2TJAfIu/+OQ35z9+b0gNglEkQM4Otfuj7gxABiEkNDcTFUBEjZlx3kMQQL0bNcOXa9s/CVDvkP06E0AffmXW+tf4P5ZMnXCauwtAaOim3/tg+D8l6euyxeoUQM5i+yMJUtw/9ykASmRs/z8pTCOTilwjQAAAAAAAAAAA93gjNZmlFEBGJhMwHuMuQAQwFsCtiR9Az50w6T8RKEDvNpPIo3s+QH/driipA9k/qqQd1togH0C7QrYMaI8bQABY+biNARdAAdxF3LHSC0DRaJ7AdzcvQJM+Gg86rMI/uN/xI7FaHUCEA+KkMvYZQE7mnpw9RxdAD4ank1aNMkBVjel6K2wTQPQI4uZD+DFAZU7sE4nvMkAk6morcuomQAAAAAAAAAAA",
        "encoding": "base64",
        "path": [
         "_data",
         2,
         "marker",
         "size",
         "value"
        ]
       },
       {
        "data": "vHSTGARWB0AAAAAAAAD4f0Jg5dAi2wNA6SYxCKwc+D+F61G4HoUHQLbz/dR46fw/2/l+arx0+T9SuB6F61H6P2Dl0CLb+fo/x0s3iUFg9z/Xo3A9Ctf5Pz81XrpJDANA6SYxCKwc/D8hsHJoke36P3Noke18P/0/AAAAAAAA+H/NzMzMzMz8Py2yne+nxvs/dZMYBFYOAUAxCKwcWmT1PwAAAAAAAPh/fT81XrpJ9j+R7Xw/NV4DQAAAAAAAAPh/AAAAAAAA+H+4HoXrUbj8P7x0kxgEVgFAyXa+nxov/z8AAAAAAAD4f8/3U+Olm/Q/AAAAAAAA+H8NAiuHFtkFQAAAAAAAAPh/iUFg5dAiDkAK16NwPQr9PwAAAAAAAPh/j8L1KFyP/j+amZmZmZn5P0SLbOf7qQFAUrgehetRAEBxPQrXo3ACQAAAAAAAAPh/sHJoke18/T/D9Shcj8L5PwAAAAAAAPh/uB6F61G4/j9Ei2zn+6n/Pz0K16NwPfg/wCaPUZzr+D/ufD81Xrr7PwAAAAAAAPh/nMQgsHJoAEAAAAAAAAD4f4XrUbgehf8/zczMzMzM9j+MbOf7qfH0PwAAAAAAAPh/gZVDi2znAEBOYhBYObT4P/hT46WbRBRATDeJQWDlB0AX2c73U+MQQM/3U+Olm/w/N4lBYOXQ/D9zaJHtfD8QQAAAAAAAAPh/",
        "encoding": "base64",
        "path": [
         "_data",
         2,
         "x",
         "value"
        ]
       },
       {
        "data": "QGDl0CLzUUAAAAAAAAD4f53vp8ZL91BAhetRuB71UkBWDi2ynR9QQIXrUbgepVFAMzMzMzMTU0ArhxbZzn9QQFyPwvUozFFAWDm0yHbuUkDD9ShcjyJSQC/dJAaBLVNAUrgehesBUkDD9Shcj9JSQDMzMzMzc1FAAAAAAAAA+H/NzMzMzNxSQHsUrkfhSlNA6Pup8dKNUUAB/QVVz+VSQAAAAAAAAPh/bxKDwMo5U0CPwvUoXEdQQAAAAAAAAPh/AAAAAAAA+H89CtejcF1RQFyPwvUofFNAKVyPwvXIUkAAAAAAAAD4fxSuR+F6RFNAAAAAAAAA+H9eukkMApNQQAAAAAAAAPh/dJMYBFaWUEB7FK5H4UpRQAAAAAAAAPh/MzMzMzOjUUCuR+F6FN5SQM3MzMzM1FFAGy/dJAbhUkB56SYxCORQQAAAAAAAAPh/rBxaZDunUkA9CtejcE1TQAAAAAAAAPh/7FG4HoU7U0DNzMzMzJxRQFyPwvUojFJAjGzn+6lhUUDXo3A9CkdRQAAAAAAAAPh/Elg5tMjmUUAAAAAAAAD4f5qZmZmZuVFAAAAAAABgUkBI4XoUrkdTQAAAAAAAAPh/pHA9CtdzU0CuR+F6FG5TQPhT46WbVE9AcT0K16MwUEBvEoPAymFPQClcj8L1aFFApHA9CtcDU0BxPQrXo6hQQAAAAAAAAPh/",
        "encoding": "base64",
        "path": [
         "_data",
         2,
         "y",
         "value"
        ]
       },
       {
        "data": "ADnc/wV2KUCqdSBtBHn8P1IlOH2Tgf4/5yei/hcIM0Bc4UA/YbgyQJstKQkuIyVANPYsIcqLFUA/sBV30/gSQAYLbUuugAxA3WItiURlEUBEY9RDPQcVQEUbcrZiHilAhqC9HUToC0CM1GMVEsz7P98fxEsQaiRAHs+8vcfPIUAGeReVy/AcQKxhdO2howtAY3Z0VZl0DUCDUthzABvzP00L87vCtCFA",
        "encoding": "base64",
        "path": [
         "_data",
         3,
         "marker",
         "size",
         "value"
        ]
       },
       {
        "data": "UI2XbhIDEkADK4cW2c4MQAAAAAAAABhAnO+nxku3EEC28/3UeOkRQGC6SQwCKxdAYxBYObTIB0BMN4lBYGUVQJqZmZmZmQFAJzEIrBxaB0CNl24Sg8ASQD0K16NwPQ9Abef7qfFSG0D0/dR46SYPQD0K16NwvRZAcT0K16NwFECBlUOLbOcKQBODwMqhxRBA/dR46SYxGkDLoUW2830QQDVeukkMAiFA",
        "encoding": "base64",
        "path": [
         "_data",
         3,
         "x",
         "value"
        ]
       },
       {
        "data": "QWDl0CLDUEAhsHJokSVSQO58PzVeakxAnMQgsHJAUEDtfD81XipQQIPAyqFFTlFA7FG4HoU7U0DJdr6fGodRQOXQItv5DlJA7Hw/NV6iUUBqvHSTGDRRQG3n+6nxUlBA16NwPQrvUEAMAiuHFtlSQIPAyqFFVlFA9P3UeOmmUUBU46WbxFhRQESLbOf78VFAbef7qfEaUUBgukkMAgtNQJZDi2znG01A",
        "encoding": "base64",
        "path": [
         "_data",
         3,
         "y",
         "value"
        ]
       },
       {
        "data": "PMxYQkHBIkCJq5ha8/M5QOxBWaTC0f0/MGIT4mCqUkCMktfE5wDzP7vueSUsHCZAHML42VfOOkDW0EieLfEkQA==",
        "encoding": "base64",
        "path": [
         "_data",
         4,
         "marker",
         "size",
         "value"
        ]
       },
       {
        "data": "zczMzMzMHkB7FK5H4XoRQNNNYhBYuRVA8tJNYhBYDkBvEoPAyiEXQCcxCKwcWhRAf2q8dJOYF0ARWDm0yHYDQA==",
        "encoding": "base64",
        "path": [
         "_data",
         4,
         "x",
         "value"
        ]
       },
       {
        "data": "1HjpJjG4SEDb+X5qvEROQMP1KFyPokpASOF6FK5nTUBkEFg5tLhOQJZDi2zn60tASOF6FK63TkB9PzVeumlRQA==",
        "encoding": "base64",
        "path": [
         "_data",
         4,
         "y",
         "value"
        ]
       },
       {
        "data": "aIE5b+JRIEC0qozneDYWQDEqmUnZ3AdAweNBIZ7zHkCkM2s0yewXQEyFxrPksiFAr/5pY8/a9z80MPfqeVcRQO6Ybjgz5RhAwH1J2FLK+j9sjdnogcMuQH02GniBVA9AwE0+NX39IUD2MKcvat74PzT6nU1x1RFASXGIXm6tMUBmDHM9l5cDQLggCkE0AwRAxrF4nwGBI0D919pjVKoYQJ/X7WzxXgRALreatvudKEBplhe05NYJQNFYBhNM7AxAOrmyD2oLIUCIxlitIfUeQK11cUOexB1AIMkRJ4qjDEAb4BjSNLgEQBORt9MDCOk/a/CTJZeeIkBYp09phzUIQN1tz2szWRxAdq0TbI7/OEDx4JGi/Zj/Pxrw43SENhpARCtn8be0xz80PG1sW4rrP0q8rcrcUBtAWFOHELlv5T8V0hcW/PwTQHxUxxVSqRlADW4LrUuyLkC6tTW+opIXQCbEMDdVPSdA2Qhs5VHXAkBhv9D5OKgpQO2AYGXuWxNAFBYzy9hlJUAgTNkPeGccQJ22v4ZpZCBA",
        "encoding": "base64",
        "path": [
         "_data",
         5,
         "marker",
         "size",
         "value"
        ]
       },
       {
        "data": "30+Nl26SHEBpke18P7UaQF66SQwCKxJA0SLb+X7qG0DUeOkmMQgeQJzEILByaBlADi2yne+nFEBWDi2yne8WQPyp8dJNYh1AfT81XrrJFUAIrBxaZLscQL+fGi/dJBVAIbByaJHtGEC0yHa+n5oXQJLtfD813hlAEoPAyqHFHECsHFpkO18VQOF6FK5HYRhAhetRuB4FFkAOLbKd7ycaQDvfT42XbhpAF9nO91NjF0AMAiuHFlkTQA4tsp3vpxlAZmZmZmbmGEBmZmZmZmYbQJMYBFYOLRxAg8DKoUW2F0DTTWIQWDkCQAMrhxbZThZA3SQGgZXDGEAxCKwcWmQUQHOTGARWDh9AEoPAyqHFGUAAAAAAAAAEQIXrUbgeBRxAAAAAAAAA+H/Jdr6fGi8VQPp+arx0ExpAHVpkO99PBUAbWmQ7388ZQFK4HoXr0R1APQrXo3A9DEDRItv5fuoaQJLtfD81XhhAZBBYObRIFkBkO99PjZcYQG3n+6nx0hhAiRbZzvdTHEC0yHa+n5oZQBsv3SQGARRA",
        "encoding": "base64",
        "path": [
         "_data",
         5,
         "x",
         "value"
        ]
       },
       {
        "data": "PzVeukmcREBOYhBYOQRLQEa28/3UOE9AMQisHFq0SEB9PzVeunlHQPp+arx000pAjGzn+6mZUEC28/3UeMlGQDeJQWDlMEdAPzVeuknsS0CamZmZmblHQArXo3A9WktAj8L1KFwPSkDwp8ZLN2lHQPhT46WbhEhABoGVQ4usR0AlBoGVQ7tOQL6fGi/dNEpAFK5H4XqUTECe76fGS0dJQBBYObTItkhAPQrXo3BdTUAAAAAAAOBNQIkW2c73s0dAXI/C9SjMSUB56SYxCJxHQOxRuB6Fa0dAiUFg5dBSTUCgGi/dJG5RQH0/NV66IVJAO99PjZf+RUB56SYxCKxOQDEIrBxaREZAz/dT46ULR0DdJAaBlUNSQM3MzMzMDEhAAAAAAAAA+H8j2/l+avxOQNejcD0Kt0xAGy/dJAaxUUBvEoPAymFCQL6fGi/dpEZA+n5qvHQjT0CR7Xw/NR5GQLbz/dR42UtApHA9CtezTUAtsp3vpxZJQFYOLbKd70tARrbz/dSIR0AOLbKd74dFQB+F61G4/kxA",
        "encoding": "base64",
        "path": [
         "_data",
         5,
         "y",
         "value"
        ]
       }
      ],
      "model_module": "plotlywidget",
      "model_module_version": "^0.5.2",
      "model_name": "FigureModel",
      "state": {
       "_config": {
        "plotlyServerURL": "https://plot.ly"
       },
       "_data": [
        {
         "marker": {
          "size": {
           "dtype": "float64",
           "shape": [
            52
           ],
           "value": {}
          }
         },
         "mode": "markers",
         "name": "America",
         "type": "scatter",
         "uid": "a9a6575f-c7df-44f4-a4fb-75e3b541464f",
         "x": {
          "dtype": "float64",
          "shape": [
           52
          ],
          "value": {}
         },
         "y": {
          "dtype": "float64",
          "shape": [
           52
          ],
          "value": {}
         }
        },
        {
         "marker": {
          "size": {
           "dtype": "float64",
           "shape": [
            46
           ],
           "value": {}
          }
         },
         "mode": "markers",
         "name": "East Asia & Pacific",
         "type": "scatter",
         "uid": "4e8e2843-175e-477f-82b4-e168484aa68c",
         "x": {
          "dtype": "float64",
          "shape": [
           46
          ],
          "value": {}
         },
         "y": {
          "dtype": "float64",
          "shape": [
           46
          ],
          "value": {}
         }
        },
        {
         "marker": {
          "size": {
           "dtype": "float64",
           "shape": [
            66
           ],
           "value": {}
          }
         },
         "mode": "markers",
         "name": "Europe & Central Asia",
         "type": "scatter",
         "uid": "c76f9a40-371a-47ae-9d00-5ba025d948b3",
         "x": {
          "dtype": "float64",
          "shape": [
           66
          ],
          "value": {}
         },
         "y": {
          "dtype": "float64",
          "shape": [
           66
          ],
          "value": {}
         }
        },
        {
         "marker": {
          "size": {
           "dtype": "float64",
           "shape": [
            21
           ],
           "value": {}
          }
         },
         "mode": "markers",
         "name": "Middle East & North Africa",
         "type": "scatter",
         "uid": "dbf2b6b4-f5ff-4eb5-b37b-6e095b57afc8",
         "x": {
          "dtype": "float64",
          "shape": [
           21
          ],
          "value": {}
         },
         "y": {
          "dtype": "float64",
          "shape": [
           21
          ],
          "value": {}
         }
        },
        {
         "marker": {
          "size": {
           "dtype": "float64",
           "shape": [
            8
           ],
           "value": {}
          }
         },
         "mode": "markers",
         "name": "South Asia",
         "type": "scatter",
         "uid": "8b7f46cf-7d35-42e2-9bd5-b88d93d64c2e",
         "visible": true,
         "x": {
          "dtype": "float64",
          "shape": [
           8
          ],
          "value": {}
         },
         "y": {
          "dtype": "float64",
          "shape": [
           8
          ],
          "value": {}
         }
        },
        {
         "marker": {
          "size": {
           "dtype": "float64",
           "shape": [
            51
           ],
           "value": {}
          }
         },
         "mode": "markers",
         "name": "Sub-Saharan Africa",
         "type": "scatter",
         "uid": "0e127225-8907-48f0-8f98-fff1acb20da8",
         "x": {
          "dtype": "float64",
          "shape": [
           51
          ],
          "value": {}
         },
         "y": {
          "dtype": "float64",
          "shape": [
           51
          ],
          "value": {}
         }
        }
       ],
       "_js2py_update": {},
       "_last_layout_edit_id": 9,
       "_last_trace_edit_id": 8,
       "_layout": {
        "autosize": true,
        "template": {}
       },
       "_py2js_animate": {},
       "_py2js_deleteTraces": {},
       "_py2js_moveTraces": {},
       "_py2js_removeLayoutProps": {},
       "_py2js_removeTraceProps": {},
       "_py2js_update": {},
       "_view_count": 1
      }
     },
     "0ea8f37569504ebd80fd2c6575e84e0d": {
      "buffers": [
       {
        "data": "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",
        "encoding": "base64",
        "path": [
         "_data",
         0,
         "x",
         "value"
        ]
       },
       {
        "data": "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",
        "encoding": "base64",
        "path": [
         "_data",
         0,
         "y",
         "value"
        ]
       },
       {
        "data": "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",
        "encoding": "base64",
        "path": [
         "_data",
         0,
         "marker",
         "size",
         "value"
        ]
       }
      ],
      "model_module": "plotlywidget",
      "model_module_version": "^0.5.2",
      "model_name": "FigureModel",
      "state": {
       "_config": {
        "plotlyServerURL": "https://plot.ly"
       },
       "_data": [
        {
         "marker": {
          "size": {
           "dtype": "float64",
           "shape": [
            500
           ],
           "value": {}
          }
         },
         "mode": "markers",
         "type": "scatter",
         "uid": "2c6c76cc-06e0-45c4-bcfc-4168b57a46f1",
         "x": {
          "dtype": "float64",
          "shape": [
           500
          ],
          "value": {}
         },
         "y": {
          "dtype": "float64",
          "shape": [
           500
          ],
          "value": {}
         }
        }
       ],
       "_js2py_restyle": {},
       "_js2py_update": {},
       "_last_layout_edit_id": 18,
       "_last_trace_edit_id": 16,
       "_layout": {
        "autosize": true,
        "template": {},
        "xaxis": {
         "autorange": true,
         "showspikes": false
        },
        "yaxis": {
         "autorange": true,
         "showspikes": false
        }
       },
       "_py2js_animate": {},
       "_py2js_moveTraces": {},
       "_py2js_removeLayoutProps": {},
       "_py2js_removeTraceProps": {},
       "_py2js_update": {},
       "_view_count": 1
      }
     },
     "27c3423553e94b959b43690e98d7ac78": {
      "model_module": "plotlywidget",
      "model_module_version": "^0.5.2",
      "model_name": "FigureModel",
      "state": {
       "_config": {
        "plotlyServerURL": "https://plot.ly"
       },
       "_js2py_layoutDelta": {},
       "_js2py_pointsCallback": {},
       "_js2py_relayout": {},
       "_js2py_restyle": {},
       "_js2py_traceDeltas": {},
       "_js2py_update": {},
       "_layout": {
        "template": {}
       },
       "_py2js_addTraces": {},
       "_py2js_animate": {},
       "_py2js_deleteTraces": {},
       "_py2js_moveTraces": {},
       "_py2js_removeLayoutProps": {},
       "_py2js_removeTraceProps": {},
       "_py2js_restyle": {},
       "_py2js_update": {},
       "_view_count": 0
      }
     },
     "87bedf9b3da7460896be0bde02ddf89e": {
      "model_module": "plotlywidget",
      "model_module_version": "^0.5.2",
      "model_name": "FigureModel",
      "state": {
       "_config": {
        "plotlyServerURL": "https://plot.ly"
       },
       "_js2py_pointsCallback": {},
       "_js2py_relayout": {},
       "_js2py_restyle": {},
       "_js2py_update": {},
       "_layout": {
        "template": {}
       },
       "_py2js_addTraces": {},
       "_py2js_animate": {},
       "_py2js_deleteTraces": {},
       "_py2js_moveTraces": {},
       "_py2js_removeLayoutProps": {},
       "_py2js_removeTraceProps": {},
       "_py2js_restyle": {},
       "_py2js_update": {},
       "_view_count": 0
      }
     },
     "8c3a64d08c7e45738960894b64007615": {
      "model_module": "plotlywidget",
      "model_module_version": "^0.5.2",
      "model_name": "FigureModel",
      "state": {
       "_config": {
        "plotlyServerURL": "https://plot.ly"
       },
       "_js2py_layoutDelta": {
        "layout_delta": {
         "annotations": [],
         "autosize": true,
         "calendar": "gregorian",
         "clickmode": "event",
         "colorway": [
          "#1f77b4",
          "#ff7f0e",
          "#2ca02c",
          "#d62728",
          "#9467bd",
          "#8c564b",
          "#e377c2",
          "#7f7f7f",
          "#bcbd22",
          "#17becf"
         ],
         "dragmode": "zoom",
         "font": {
          "color": "#444",
          "family": "\"Open Sans\", verdana, arial, sans-serif",
          "size": 12
         },
         "height": 490,
         "hidesources": false,
         "hoverdistance": 20,
         "hoverlabel": {
          "font": {
           "family": "Arial, sans-serif",
           "size": 13
          },
          "namelength": 15
         },
         "hovermode": "y",
         "images": [],
         "margin": {
          "autoexpand": true,
          "b": 80,
          "l": 80,
          "pad": 0,
          "r": 80,
          "t": 100
         },
         "modebar": {
          "activecolor": "rgba(68, 68, 68, 0.7)",
          "bgcolor": "rgba(255, 255, 255, 0.5)",
          "color": "rgba(68, 68, 68, 0.3)",
          "orientation": "h"
         },
         "paper_bgcolor": "#fff",
         "plot_bgcolor": "#fff",
         "separators": ".,",
         "shapes": [],
         "showlegend": false,
         "sliders": [],
         "spikedistance": 20,
         "title": "Click to enter Plot title",
         "titlefont": {
          "color": "#444",
          "family": "\"Open Sans\", verdana, arial, sans-serif",
          "size": 17
         },
         "updatemenus": [],
         "width": 962.133,
         "xaxis": {
          "anchor": "y",
          "automargin": false,
          "autorange": true,
          "color": "#444",
          "constrain": "range",
          "constraintoward": "center",
          "domain": [
           0,
           1
          ],
          "dtick": 1,
          "exponentformat": "B",
          "fixedrange": false,
          "gridcolor": "rgb(238, 238, 238)",
          "gridwidth": 1,
          "hoverformat": "",
          "layer": "above traces",
          "nticks": 0,
          "range": [
           -1,
           6
          ],
          "rangemode": "normal",
          "separatethousands": false,
          "showexponent": "all",
          "showgrid": true,
          "showline": false,
          "showspikes": false,
          "showticklabels": true,
          "side": "bottom",
          "tick0": 0,
          "tickangle": "auto",
          "tickfont": {
           "color": "#444",
           "family": "\"Open Sans\", verdana, arial, sans-serif",
           "size": 12
          },
          "tickformat": "",
          "tickmode": "auto",
          "tickprefix": "",
          "ticks": "",
          "ticksuffix": "",
          "title": "Click to enter X axis title",
          "titlefont": {
           "color": "#444",
           "family": "\"Open Sans\", verdana, arial, sans-serif",
           "size": 14
          },
          "type": "linear",
          "visible": true,
          "zeroline": true,
          "zerolinecolor": "#444",
          "zerolinewidth": 1
         },
         "yaxis": {
          "anchor": "x",
          "automargin": false,
          "autorange": true,
          "color": "#444",
          "constrain": "range",
          "constraintoward": "middle",
          "domain": [
           0,
           1
          ],
          "dtick": 1,
          "exponentformat": "B",
          "fixedrange": false,
          "gridcolor": "rgb(238, 238, 238)",
          "gridwidth": 1,
          "hoverformat": "",
          "layer": "above traces",
          "nticks": 0,
          "range": [
           -1,
           4
          ],
          "rangemode": "normal",
          "separatethousands": false,
          "showexponent": "all",
          "showgrid": true,
          "showline": false,
          "showspikes": false,
          "showticklabels": true,
          "side": "left",
          "tick0": 0,
          "tickangle": "auto",
          "tickfont": {
           "color": "#444",
           "family": "\"Open Sans\", verdana, arial, sans-serif",
           "size": 12
          },
          "tickformat": "",
          "tickmode": "auto",
          "tickprefix": "",
          "ticks": "",
          "ticksuffix": "",
          "title": "Click to enter Y axis title",
          "titlefont": {
           "color": "#444",
           "family": "\"Open Sans\", verdana, arial, sans-serif",
           "size": 14
          },
          "type": "linear",
          "visible": true,
          "zeroline": true,
          "zerolinecolor": "#444",
          "zerolinewidth": 1
         }
        },
        "layout_edit_id": 0
       },
       "_js2py_pointsCallback": {},
       "_js2py_relayout": {
        "relayout_data": {
         "autosize": true
        },
        "source_view_id": "297769"
       },
       "_js2py_restyle": {},
       "_js2py_traceDeltas": {
        "trace_deltas": [],
        "trace_edit_id": 0
       },
       "_js2py_update": {},
       "_layout": {
        "template": {}
       },
       "_py2js_addTraces": {},
       "_py2js_animate": {},
       "_py2js_deleteTraces": {},
       "_py2js_moveTraces": {},
       "_py2js_removeLayoutProps": {},
       "_py2js_removeTraceProps": {},
       "_py2js_restyle": {},
       "_py2js_update": {},
       "_view_count": 1
      }
     },
     "b2e1410b797a42619277a486154fd803": {
      "buffers": [
       {
        "data": "AAAAAAAA+H8v3SQGgZUAQNrO91PjpQdA+FPjpZvEAUA/NV66SQwFQIPAyqFFtvs/WDm0yHa+EUAAAAAAAAD4fxFYObTIdhNAI9v5fmq8BUAAAAAAAAD4fwaBlUOLbPs/AAAAAAAA+H8tsp3vp8YEQNv5fmq8dAhAuB6F61G4CEBxPQrXo3D7PwAAAAAAAPh/kxgEVg4tC0AnMQisHFoNQEw3iUFg5Q5AAAAAAAAA+H8j2/l+arwPQM/3U+Olmw1AOrTIdr6fAUCamZmZmRkWQLgehetRuANAEoPAyqFFFUD+1HjpJjEUQP7UeOkmMQdAKVyPwvUoAEBI4XoUrkcKQAAAAAAAAPh/UrgehetRAkDFILByaJESQP7UeOkmMQhAmG4Sg8DKEUAtsp3vp8YNQM/3U+OlmwFAAAAAAAAA+H8AAAAAAAD4f/yp8dJNYgpAAAAAAAAA+H+oxks3iUEHQAAAAAAAAPh/ku18PzVeBUCDwMqhRbYCQAAAAAAAAPh/EVg5tMh2AEA/NV66SQwEQPYoXI/C9QpAKVyPwvUoB0A=",
        "encoding": "base64",
        "path": [
         "_data",
         0,
         "x",
         "value"
        ]
       },
       {
        "data": "AAAAAAAA+H8xCKwcWuRRQLTIdr6f8lFAf2q8dJNgUkBWDi2ynbdRQGq8dJMY1FFAarx0kxi8UUAAAAAAAAD4f8/3U+Olq01Ac2iR7Xy3UEAAAAAAAAD4f1yPwvUobFNAAAAAAAAA+H87tMh2vndSQCPb+X5qHFFA4XoUrkf5UkCTGARWDq1SQAAAAAAAAPh/zczMzMwUUUAv3SQGgVVRQKJFtvP9tFBAAAAAAAAA+H+oxks3iRFSQClcj8L1MFFAhetRuB6FUkApXI/C9VhPQLpJDAIrF09AEFg5tMhmS0AMAiuHFslQQIPAyqFFplFAmpmZmZnJUkCsHFpkO89RQAAAAAAAAPh/FwRWDi2iUkDvp8ZLNzlQQB+F61G4TlJAPzVeukkMUUBg5dAi24FQQOxRuB6Fg1JAAAAAAAAA+H8AAAAAAAD4f4cW2c73y1FAAAAAAAAA+H8W2c73U5NRQAAAAAAAAPh/SgwCK4feUEC8dJMYBAZRQAAAAAAAAPh/AAAAAADgUkCNl24SgzBSQJqZmZmZ0VFA30+Nl27CUkA=",
        "encoding": "base64",
        "path": [
         "_data",
         0,
         "y",
         "value"
        ]
       },
       {
        "data": "AAAAAAAA+H8v3SQGgZX9P3sUrkfhegtAjZduEoPAFUAj2/l+arwCQAAAAAAAAPh/AAAAAAAA+H8AAAAAAAD4f8uhRbbz/QpAiBbZzvdTCkCNl24Sg8AHQNNNYhBYOfQ/yXa+nxovCECPwvUoXI/4P4GVQ4tsZxJAf2q8dJMYAkB/arx0kxj6P+58PzVeOhhABoGVQ4ts+T/hehSuR+ELQAAAAAAAAPh/ukkMAiuHE0ArhxbZzvcNQAisHFpkOwpAAAAAAAAA+H/kpZvEILAHQN3qOel94wJAAAAAAAAA+H8AAAAAAAD4fwAAAAAAAPh/AAAAAAAA+H+6SQwCKwcTQJZDi2zn+xBAAAAAAAAA+H+JQWDl0CIUQK5H4XoUrvs/tvP91HjpFkCF61G4HoX7P3E9CtejcABAxUs3iUHgFUAAAAAAAAD4f6abxCCwchJAAAAAAAAA+H8/NV66SYwTQIgW2c73UwtAAAAAAAAA+H8=",
        "encoding": "base64",
        "path": [
         "_data",
         1,
         "x",
         "value"
        ]
       },
       {
        "data": "AAAAAAAA+H/D9Shcj2JTQGq8dJMYdFJAwcqhRbazS0BGtvP91GhRQAAAAAAAAPh/AAAAAAAA+H8AAAAAAAD4fxFYObTIblBAuB6F61FAUUCmm8QgsApSQOF6FK5HcVNA30+Nl27yT0CkcD0K19NTQKRwPQrXg05Axks3iUF4UUDNzMzMzAxSQNR46SYxeEtAyXa+nxrnUkBzkxgEVr5RQAAAAAAAAPh/zczMzMyUUEBYObTIdj5OQM3MzMzMjE1AAAAAAAAA+H9/arx0k8BRQM3MzMzMDFNAAAAAAAAA+H8AAAAAAAD4fwAAAAAAAPh/AAAAAAAA+H+iRbbz/fRLQO+nxks3WVBAAAAAAAAA+H9/arx0k1hQQJhuEoPAGlNAg8DKoUWWTECPwvUoXI9SQESLbOf7oVFA2s73U+OlSEAAAAAAAAD4f5HtfD81blFAAAAAAAAA+H/6fmq8dMNPQBJYObTIvlFAAAAAAAAA+H8=",
        "encoding": "base64",
        "path": [
         "_data",
         1,
         "y",
         "value"
        ]
       },
       {
        "data": "vHSTGARWB0AAAAAAAAD4f0Jg5dAi2wNA6SYxCKwc+D+F61G4HoUHQLbz/dR46fw/2/l+arx0+T9SuB6F61H6P2Dl0CLb+fo/x0s3iUFg9z/Xo3A9Ctf5Pz81XrpJDANA6SYxCKwc/D8hsHJoke36P3Noke18P/0/AAAAAAAA+H/NzMzMzMz8Py2yne+nxvs/dZMYBFYOAUAxCKwcWmT1PwAAAAAAAPh/fT81XrpJ9j+R7Xw/NV4DQAAAAAAAAPh/AAAAAAAA+H+4HoXrUbj8P7x0kxgEVgFAyXa+nxov/z8AAAAAAAD4f8/3U+Olm/Q/AAAAAAAA+H8NAiuHFtkFQAAAAAAAAPh/iUFg5dAiDkAK16NwPQr9PwAAAAAAAPh/j8L1KFyP/j+amZmZmZn5P0SLbOf7qQFAUrgehetRAEBxPQrXo3ACQAAAAAAAAPh/sHJoke18/T/D9Shcj8L5PwAAAAAAAPh/uB6F61G4/j9Ei2zn+6n/Pz0K16NwPfg/wCaPUZzr+D/ufD81Xrr7PwAAAAAAAPh/nMQgsHJoAEAAAAAAAAD4f4XrUbgehf8/zczMzMzM9j+MbOf7qfH0PwAAAAAAAPh/gZVDi2znAEBOYhBYObT4P/hT46WbRBRATDeJQWDlB0AX2c73U+MQQM/3U+Olm/w/N4lBYOXQ/D9zaJHtfD8QQAAAAAAAAPh/",
        "encoding": "base64",
        "path": [
         "_data",
         2,
         "x",
         "value"
        ]
       },
       {
        "data": "QGDl0CLzUUAAAAAAAAD4f53vp8ZL91BAhetRuB71UkBWDi2ynR9QQIXrUbgepVFAMzMzMzMTU0ArhxbZzn9QQFyPwvUozFFAWDm0yHbuUkDD9ShcjyJSQC/dJAaBLVNAUrgehesBUkDD9Shcj9JSQDMzMzMzc1FAAAAAAAAA+H/NzMzMzNxSQHsUrkfhSlNA6Pup8dKNUUAB/QVVz+VSQAAAAAAAAPh/bxKDwMo5U0CPwvUoXEdQQAAAAAAAAPh/AAAAAAAA+H89CtejcF1RQFyPwvUofFNAKVyPwvXIUkAAAAAAAAD4fxSuR+F6RFNAAAAAAAAA+H9eukkMApNQQAAAAAAAAPh/dJMYBFaWUEB7FK5H4UpRQAAAAAAAAPh/MzMzMzOjUUCuR+F6FN5SQM3MzMzM1FFAGy/dJAbhUkB56SYxCORQQAAAAAAAAPh/rBxaZDunUkA9CtejcE1TQAAAAAAAAPh/7FG4HoU7U0DNzMzMzJxRQFyPwvUojFJAjGzn+6lhUUDXo3A9CkdRQAAAAAAAAPh/Elg5tMjmUUAAAAAAAAD4f5qZmZmZuVFAAAAAAABgUkBI4XoUrkdTQAAAAAAAAPh/pHA9CtdzU0CuR+F6FG5TQPhT46WbVE9AcT0K16MwUEBvEoPAymFPQClcj8L1aFFApHA9CtcDU0BxPQrXo6hQQAAAAAAAAPh/",
        "encoding": "base64",
        "path": [
         "_data",
         2,
         "y",
         "value"
        ]
       },
       {
        "data": "UI2XbhIDEkADK4cW2c4MQAAAAAAAABhAnO+nxku3EEC28/3UeOkRQGC6SQwCKxdAYxBYObTIB0BMN4lBYGUVQJqZmZmZmQFAJzEIrBxaB0CNl24Sg8ASQD0K16NwPQ9Abef7qfFSG0D0/dR46SYPQD0K16NwvRZAcT0K16NwFECBlUOLbOcKQBODwMqhxRBA/dR46SYxGkDLoUW2830QQDVeukkMAiFA",
        "encoding": "base64",
        "path": [
         "_data",
         3,
         "x",
         "value"
        ]
       },
       {
        "data": "QWDl0CLDUEAhsHJokSVSQO58PzVeakxAnMQgsHJAUEDtfD81XipQQIPAyqFFTlFA7FG4HoU7U0DJdr6fGodRQOXQItv5DlJA7Hw/NV6iUUBqvHSTGDRRQG3n+6nxUlBA16NwPQrvUEAMAiuHFtlSQIPAyqFFVlFA9P3UeOmmUUBU46WbxFhRQESLbOf78VFAbef7qfEaUUBgukkMAgtNQJZDi2znG01A",
        "encoding": "base64",
        "path": [
         "_data",
         3,
         "y",
         "value"
        ]
       },
       {
        "data": "zczMzMzMHkB7FK5H4XoRQNNNYhBYuRVA8tJNYhBYDkBvEoPAyiEXQCcxCKwcWhRAf2q8dJOYF0ARWDm0yHYDQA==",
        "encoding": "base64",
        "path": [
         "_data",
         4,
         "x",
         "value"
        ]
       },
       {
        "data": "1HjpJjG4SEDb+X5qvEROQMP1KFyPokpASOF6FK5nTUBkEFg5tLhOQJZDi2zn60tASOF6FK63TkB9PzVeumlRQA==",
        "encoding": "base64",
        "path": [
         "_data",
         4,
         "y",
         "value"
        ]
       },
       {
        "data": "30+Nl26SHEBpke18P7UaQF66SQwCKxJA0SLb+X7qG0DUeOkmMQgeQJzEILByaBlADi2yne+nFEBWDi2yne8WQPyp8dJNYh1AfT81XrrJFUAIrBxaZLscQL+fGi/dJBVAIbByaJHtGEC0yHa+n5oXQJLtfD813hlAEoPAyqHFHECsHFpkO18VQOF6FK5HYRhAhetRuB4FFkAOLbKd7ycaQDvfT42XbhpAF9nO91NjF0AMAiuHFlkTQA4tsp3vpxlAZmZmZmbmGEBmZmZmZmYbQJMYBFYOLRxAg8DKoUW2F0DTTWIQWDkCQAMrhxbZThZA3SQGgZXDGEAxCKwcWmQUQHOTGARWDh9AEoPAyqHFGUAAAAAAAAAEQIXrUbgeBRxAAAAAAAAA+H/Jdr6fGi8VQPp+arx0ExpAHVpkO99PBUAbWmQ7388ZQFK4HoXr0R1APQrXo3A9DEDRItv5fuoaQJLtfD81XhhAZBBYObRIFkBkO99PjZcYQG3n+6nx0hhAiRbZzvdTHEC0yHa+n5oZQBsv3SQGARRA",
        "encoding": "base64",
        "path": [
         "_data",
         5,
         "x",
         "value"
        ]
       },
       {
        "data": "PzVeukmcREBOYhBYOQRLQEa28/3UOE9AMQisHFq0SEB9PzVeunlHQPp+arx000pAjGzn+6mZUEC28/3UeMlGQDeJQWDlMEdAPzVeuknsS0CamZmZmblHQArXo3A9WktAj8L1KFwPSkDwp8ZLN2lHQPhT46WbhEhABoGVQ4usR0AlBoGVQ7tOQL6fGi/dNEpAFK5H4XqUTECe76fGS0dJQBBYObTItkhAPQrXo3BdTUAAAAAAAOBNQIkW2c73s0dAXI/C9SjMSUB56SYxCJxHQOxRuB6Fa0dAiUFg5dBSTUCgGi/dJG5RQH0/NV66IVJAO99PjZf+RUB56SYxCKxOQDEIrBxaREZAz/dT46ULR0DdJAaBlUNSQM3MzMzMDEhAAAAAAAAA+H8j2/l+avxOQNejcD0Kt0xAGy/dJAaxUUBvEoPAymFCQL6fGi/dpEZA+n5qvHQjT0CR7Xw/NR5GQLbz/dR42UtApHA9CtezTUAtsp3vpxZJQFYOLbKd70tARrbz/dSIR0AOLbKd74dFQB+F61G4/kxA",
        "encoding": "base64",
        "path": [
         "_data",
         5,
         "y",
         "value"
        ]
       }
      ],
      "model_module": "plotlywidget",
      "model_module_version": "^0.5.2",
      "model_name": "FigureModel",
      "state": {
       "_config": {
        "plotlyServerURL": "https://plot.ly"
       },
       "_data": [
        {
         "mode": "markers",
         "type": "scatter",
         "uid": "cd489bbe-9250-4310-97e2-4bddeafb3500",
         "x": {
          "dtype": "float64",
          "shape": [
           52
          ],
          "value": {}
         },
         "y": {
          "dtype": "float64",
          "shape": [
           52
          ],
          "value": {}
         }
        },
        {
         "mode": "markers",
         "type": "scatter",
         "uid": "bcc8077c-db46-4da1-a129-f15ea96c5dc0",
         "x": {
          "dtype": "float64",
          "shape": [
           46
          ],
          "value": {}
         },
         "y": {
          "dtype": "float64",
          "shape": [
           46
          ],
          "value": {}
         }
        },
        {
         "mode": "markers",
         "type": "scatter",
         "uid": "9473b8a1-041e-4b2c-821b-bcef2f85835c",
         "x": {
          "dtype": "float64",
          "shape": [
           66
          ],
          "value": {}
         },
         "y": {
          "dtype": "float64",
          "shape": [
           66
          ],
          "value": {}
         }
        },
        {
         "mode": "markers",
         "type": "scatter",
         "uid": "13ed39af-a18c-455d-be6a-d271d7268b80",
         "x": {
          "dtype": "float64",
          "shape": [
           21
          ],
          "value": {}
         },
         "y": {
          "dtype": "float64",
          "shape": [
           21
          ],
          "value": {}
         }
        },
        {
         "mode": "markers",
         "type": "scatter",
         "uid": "ebffd286-d42b-499c-be91-55e602d5af22",
         "x": {
          "dtype": "float64",
          "shape": [
           8
          ],
          "value": {}
         },
         "y": {
          "dtype": "float64",
          "shape": [
           8
          ],
          "value": {}
         }
        },
        {
         "mode": "markers",
         "type": "scatter",
         "uid": "4e18ae65-15a8-4c46-8cc6-caf52a195484",
         "x": {
          "dtype": "float64",
          "shape": [
           51
          ],
          "value": {}
         },
         "y": {
          "dtype": "float64",
          "shape": [
           51
          ],
          "value": {}
         }
        }
       ],
       "_js2py_relayout": {},
       "_js2py_restyle": {},
       "_js2py_update": {},
       "_last_layout_edit_id": 6,
       "_last_trace_edit_id": 6,
       "_layout": {
        "template": {}
       },
       "_py2js_animate": {},
       "_py2js_deleteTraces": {},
       "_py2js_moveTraces": {},
       "_py2js_removeLayoutProps": {},
       "_py2js_removeTraceProps": {},
       "_py2js_restyle": {},
       "_py2js_update": {},
       "_view_count": 0
      }
     },
     "cf1473e903164becae36b2d588cf7fd0": {
      "buffers": [
       {
        "data": "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",
        "encoding": "base64",
        "path": [
         "_data",
         0,
         "x",
         "value"
        ]
       },
       {
        "data": "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",
        "encoding": "base64",
        "path": [
         "_data",
         0,
         "y",
         "value"
        ]
       }
      ],
      "model_module": "plotlywidget",
      "model_module_version": "^0.5.2",
      "model_name": "FigureModel",
      "state": {
       "_config": {
        "plotlyServerURL": "https://plot.ly"
       },
       "_data": [
        {
         "type": "scatter",
         "uid": "4df4a6e2-5c8a-4943-be46-e9ffe5745963",
         "x": {
          "dtype": "float64",
          "shape": [
           244
          ],
          "value": {}
         },
         "y": {
          "dtype": "float64",
          "shape": [
           244
          ],
          "value": {}
         }
        }
       ],
       "_js2py_relayout": {},
       "_js2py_restyle": {},
       "_js2py_update": {},
       "_last_layout_edit_id": 1,
       "_last_trace_edit_id": 1,
       "_layout": {
        "template": {}
       },
       "_py2js_animate": {},
       "_py2js_deleteTraces": {},
       "_py2js_moveTraces": {},
       "_py2js_removeLayoutProps": {},
       "_py2js_removeTraceProps": {},
       "_py2js_restyle": {},
       "_py2js_update": {},
       "_view_count": 0
      }
     },
     "db7cab2549f74b0a8170997ec09d4ab0": {
      "buffers": [
       {
        "data": "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",
        "encoding": "base64",
        "path": [
         "_data",
         0,
         "x",
         "value"
        ]
       },
       {
        "data": "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",
        "encoding": "base64",
        "path": [
         "_data",
         0,
         "y",
         "value"
        ]
       },
       {
        "data": "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",
        "encoding": "base64",
        "path": [
         "_data",
         0,
         "marker",
         "size",
         "value"
        ]
       }
      ],
      "model_module": "plotlywidget",
      "model_module_version": "^0.5.2",
      "model_name": "FigureModel",
      "state": {
       "_config": {
        "plotlyServerURL": "https://plot.ly"
       },
       "_data": [
        {
         "marker": {
          "size": {
           "dtype": "float64",
           "shape": [
            244
           ],
           "value": {}
          }
         },
         "mode": "markers",
         "text": [
          "Afghanistan",
          "Albania",
          "Algeria",
          "American Samoa",
          "Andorra",
          "Angola",
          "Anguilla",
          "Antigua and Barbuda",
          "Argentina",
          "Armenia",
          "Aruba",
          "Australia",
          "Austria",
          "Azerbaijan",
          "Bahamas",
          "Bahrain",
          "Bangladesh",
          "Barbados",
          "Belarus",
          "Belgium",
          "Belize",
          "Benin",
          "Bermuda",
          "Bhutan",
          "Bolivia",
          "Bosnia and Herzegovina",
          "Botswana",
          "Brazil",
          "British Virgin Islands",
          "Brunei",
          "Bulgaria",
          "Burkina Faso",
          "Burundi",
          "Cambodia",
          "Cameroon",
          "Canada",
          "Cape Verde",
          "Cayman Islands",
          "Central African Rep.",
          "Chad",
          "Channel Islands",
          "Chile",
          "China",
          "Christmas Island",
          "Cocos Island",
          "Colombia",
          "Comoros",
          "Congo, Dem. Rep.",
          "Congo, Rep.",
          "Cook Islands",
          "Costa Rica",
          "Cote d'Ivoire",
          "Croatia",
          "Cuba",
          "Cyprus",
          "Czech Rep.",
          "Denmark",
          "Djibouti",
          "Dominica",
          "Dominican Rep.",
          "Ecuador",
          "Egypt",
          "El Salvador",
          "Equatorial Guinea",
          "Eritrea",
          "Estonia",
          "Ethiopia",
          "Faeroe Islands",
          "Falkland Islands (Malvinas)",
          "Fiji",
          "Finland",
          "France",
          "French Guiana",
          "French Polynesia",
          "Gabon",
          "Gambia",
          "Georgia",
          "Germany",
          "Ghana",
          "Gibraltar",
          "Greece",
          "Greenland",
          "Grenada",
          "Guadeloupe",
          "Guam",
          "Guatemala",
          "Guernsey",
          "Guinea",
          "Guinea-Bissau",
          "Guyana",
          "Haiti",
          "Holy See",
          "Honduras",
          "Hong Kong, China",
          "Hungary",
          "Iceland",
          "India",
          "Indonesia",
          "Iran",
          "Iraq",
          "Ireland",
          "Isle of Man",
          "Israel",
          "Italy",
          "Jamaica",
          "Japan",
          "Jersey",
          "Jordan",
          "Kazakhstan",
          "Kenya",
          "Kiribati",
          "Korea, Dem. Rep.",
          "Korea, Rep.",
          "Kosovo",
          "Kuwait",
          "Kyrgyzstan",
          "Laos",
          "Latvia",
          "Lebanon",
          "Lesotho",
          "Liberia",
          "Libya",
          "Liechtenstein",
          "Lithuania",
          "Luxembourg",
          "Macao, China",
          "Macedonia, FYR",
          "Madagascar",
          "Malawi",
          "Malaysia",
          "Maldives",
          "Mali",
          "Malta",
          "Marshall Islands",
          "Martinique",
          "Mauritania",
          "Mauritius",
          "Mayotte",
          "Mexico",
          "Micronesia, Fed. Sts.",
          "Moldova",
          "Monaco",
          "Mongolia",
          "Montenegro",
          "Montserrat",
          "Morocco",
          "Mozambique",
          "Myanmar",
          "Namibia",
          "Nauru",
          "Nepal",
          "Netherlands",
          "Netherlands Antilles",
          "New Caledonia",
          "New Zealand",
          "Nicaragua",
          "Niger",
          "Nigeria",
          "Niue",
          "Norfolk Island",
          "Northern Cyprus",
          "Northern Mariana Islands",
          "Norway",
          "Oman",
          "Pakistan",
          "Palau",
          "Panama",
          "Papua New Guinea",
          "Paraguay",
          "Peru",
          "Philippines",
          "Pitcairn",
          "Poland",
          "Portugal",
          "Puerto Rico",
          "Qatar",
          "Reunion",
          "Romania",
          "Russia",
          "Rwanda",
          "Saint Barthélemy",
          "Saint Helena",
          "Saint Kitts and Nevis",
          "Saint Lucia",
          "Saint Martin",
          "Saint Vincent and the Grenadines",
          "Saint-Pierre-et-Miquelon",
          "Samoa",
          "San Marino",
          "Sao Tome and Principe",
          "Saudi Arabia",
          "Senegal",
          "Serbia",
          "Serbia excluding Kosovo",
          "Seychelles",
          "Sierra Leone",
          "Singapore",
          "Slovak Republic",
          "Slovenia",
          "Solomon Islands",
          "Somalia",
          "South Africa",
          "South Sudan",
          "Spain",
          "Sri Lanka",
          "Sudan",
          "Suriname",
          "Svalbard",
          "Swaziland",
          "Sweden",
          "Switzerland",
          "Syria",
          "Taiwan",
          "Tajikistan",
          "Tanzania",
          "Thailand",
          "Timor-Leste",
          "Togo",
          "Tokelau",
          "Tonga",
          "Trinidad and Tobago",
          "Tunisia",
          "Turkey",
          "Turkmenistan",
          "Turks and Caicos Islands",
          "Tuvalu",
          "Uganda",
          "Ukraine",
          "United Arab Emirates",
          "United Kingdom",
          "United States",
          "Uruguay",
          "Uzbekistan",
          "Vanuatu",
          "Venezuela",
          "Vietnam",
          "Virgin Islands (U.S.)",
          "Wallis et Futuna",
          "West Bank and Gaza",
          "Western Sahara",
          "Yemen, Rep.",
          "Zambia",
          "Zimbabwe",
          "Åland"
         ],
         "type": "scatter",
         "uid": "774be867-27a6-4382-8ab4-ce7c29f5430d",
         "x": {
          "dtype": "float64",
          "shape": [
           244
          ],
          "value": {}
         },
         "y": {
          "dtype": "float64",
          "shape": [
           244
          ],
          "value": {}
         }
        }
       ],
       "_js2py_restyle": {},
       "_js2py_update": {},
       "_last_layout_edit_id": 93,
       "_last_trace_edit_id": 21,
       "_layout": {
        "autosize": true,
        "template": {},
        "xaxis": {
         "autorange": true,
         "showspikes": false
        },
        "yaxis": {
         "autorange": true,
         "showspikes": false
        }
       },
       "_py2js_animate": {},
       "_py2js_deleteTraces": {},
       "_py2js_moveTraces": {},
       "_py2js_removeTraceProps": {},
       "_py2js_update": {},
       "_view_count": 0
      }
     },
     "dfac5f71680a434bba33602bbc96e891": {
      "buffers": [
       {
        "data": "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",
        "encoding": "base64",
        "path": [
         "_data",
         0,
         "x",
         "value"
        ]
       },
       {
        "data": "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",
        "encoding": "base64",
        "path": [
         "_data",
         0,
         "y",
         "value"
        ]
       }
      ],
      "model_module": "plotlywidget",
      "model_module_version": "^0.5.2",
      "model_name": "FigureModel",
      "state": {
       "_config": {
        "plotlyServerURL": "https://plot.ly"
       },
       "_data": [
        {
         "mode": "markers",
         "type": "scatter",
         "uid": "d3cdcfe3-0560-4af2-840b-3e530123ab24",
         "x": {
          "dtype": "float64",
          "shape": [
           244
          ],
          "value": {}
         },
         "y": {
          "dtype": "float64",
          "shape": [
           244
          ],
          "value": {}
         }
        }
       ],
       "_js2py_relayout": {},
       "_js2py_restyle": {},
       "_js2py_update": {},
       "_last_layout_edit_id": 1,
       "_last_trace_edit_id": 1,
       "_layout": {
        "template": {}
       },
       "_py2js_animate": {},
       "_py2js_deleteTraces": {},
       "_py2js_moveTraces": {},
       "_py2js_removeLayoutProps": {},
       "_py2js_removeTraceProps": {},
       "_py2js_restyle": {},
       "_py2js_update": {},
       "_view_count": 0
      }
     }
    },
    "version_major": 2,
    "version_minor": 0
   }
  }
 },
 "nbformat": 4,
 "nbformat_minor": 2
}
